{
 "cells": [
  {
   "cell_type": "markdown",
   "metadata": {},
   "source": [
    "# Lab 2 : "
   ]
  },
  {
   "cell_type": "markdown",
   "metadata": {},
   "source": [
    "## 4.2 - Cyclic tour"
   ]
  },
  {
   "cell_type": "code",
   "execution_count": 1,
   "metadata": {},
   "outputs": [],
   "source": [
    "import numpy as np\n",
    "import matplotlib.pyplot as plt"
   ]
  },
  {
   "cell_type": "code",
   "execution_count": 2,
   "metadata": {},
   "outputs": [],
   "source": [
    "features = 2\n",
    "cities = 10\n",
    "hidden_nodes = 20"
   ]
  },
  {
   "cell_type": "code",
   "execution_count": 25,
   "metadata": {},
   "outputs": [],
   "source": [
    "def get_data_cities(file='cities'):\n",
    "    if file == 'cities':\n",
    "        filename = \"data/cities.dat\"\n",
    "        with open(filename) as f:\n",
    "            lines = f.readlines()[4:]\n",
    "            raw_data = [line.replace(\";\", '').replace('\\n', '').split(\",\") for line in lines]\n",
    "            data = np.array([ elem for singleList in raw_data for elem in singleList])\n",
    "            data = np.reshape(data, (cities,features))\n",
    "            data = data.astype(np.float)\n",
    "        return data"
   ]
  },
  {
   "cell_type": "code",
   "execution_count": 26,
   "metadata": {},
   "outputs": [],
   "source": [
    "def init_weights(size, sd=0.01):\n",
    "    return np.random.normal(0, sd, size)"
   ]
  },
  {
   "cell_type": "code",
   "execution_count": 27,
   "metadata": {},
   "outputs": [],
   "source": [
    "def neighborhood(ndx, epoch, max_range):\n",
    "    nbrhd_range = int(2 - (epoch)//10)\n",
    "    list_of_neighbors = [ndx]\n",
    "    if(nbrhd_range==2):\n",
    "        if(ndx-nbrhd_range < 0):\n",
    "            list_of_neighbors.append(ndx-1)\n",
    "            list_of_neighbors.append(ndx+1)\n",
    "        elif(ndx+nbrhd_range >= 10):\n",
    "            list_of_neighbors.append(0)    #(ndx+nbrhd_range)%10\n",
    "            list_of_neighbors.append(ndx-1)\n",
    "        else : \n",
    "            list_of_neighbors.append(ndx-1)\n",
    "            list_of_neighbors.append(ndx+1)\n",
    "    if(nbrhd_range==1):\n",
    "        if(ndx+nbrhd_range > 10):\n",
    "            list_of_neighbors.append(0)\n",
    "        else:\n",
    "            if(ndx==9):\n",
    "                i=-1\n",
    "            else:\n",
    "                i=np.random.choice([-1,1])\n",
    "            list_of_neighbors.append(ndx+i)       \n",
    "    return list_of_neighbors"
   ]
  },
  {
   "cell_type": "code",
   "execution_count": 28,
   "metadata": {},
   "outputs": [
    {
     "data": {
      "text/plain": [
       "[9]"
      ]
     },
     "execution_count": 28,
     "metadata": {},
     "output_type": "execute_result"
    }
   ],
   "source": [
    "neighborhood(9, 25, hidden_nodes)"
   ]
  },
  {
   "cell_type": "code",
   "execution_count": 29,
   "metadata": {},
   "outputs": [],
   "source": [
    "def train_SOM(inputs, weights, step_size=0.2, epochs=30, eta=0.2):\n",
    "    for epoch in range(epochs):\n",
    "        for cityNdx in range(cities):\n",
    "            # Calculate similarity between input pattern and weights\n",
    "            #  Ignore Sqrt since we only care about the winner\n",
    "            similarity = np.sum(\n",
    "                np.square(inputs[cityNdx,:]-weights), axis=1)\n",
    "            # Select winner\n",
    "            winner = np.argmin(similarity)\n",
    "            # Update weights in neighborhood\n",
    "            nbrs = neighborhood(winner, epoch, hidden_nodes)\n",
    "            weights[nbrs,:] = weights[nbrs,:] + \\\n",
    "              eta*(inputs[cityNdx,:] - weights[nbrs,:])\n",
    "    return weights"
   ]
  },
  {
   "cell_type": "code",
   "execution_count": 30,
   "metadata": {},
   "outputs": [],
   "source": [
    "weights = init_weights((hidden_nodes, features))\n",
    "inputs = get_data_cities()"
   ]
  },
  {
   "cell_type": "code",
   "execution_count": 31,
   "metadata": {},
   "outputs": [],
   "source": [
    "w_trained = train_SOM(inputs, weights)"
   ]
  },
  {
   "cell_type": "code",
   "execution_count": 33,
   "metadata": {},
   "outputs": [],
   "source": [
    "def plot_tour(inputs, weights):\n",
    "    outputs = []\n",
    "    for cityNdx in range(cities):\n",
    "        similarity = np.sum(\n",
    "            np.square(inputs[cityNdx,:] - weights), axis=1)\n",
    "        indice = np.argmin(similarity)\n",
    "        outputs.append(weights[indice,:])\n",
    "    outputs.append(inputs[0,:])\n",
    "    outputs = np.asarray(outputs)\n",
    "    plt.scatter(inputs[:,0],inputs[:,1])\n",
    "    plt.plot(outputs[:,0],outputs[:,1], color='red')"
   ]
  },
  {
   "cell_type": "code",
   "execution_count": 34,
   "metadata": {},
   "outputs": [
    {
     "data": {
      "image/png": "[encoded data removed]",
      "text/plain": [
       "<matplotlib.figure.Figure at 0x11c679ba8>"
      ]
     },
     "metadata": {},
     "output_type": "display_data"
    }
   ],
   "source": [
    "plot_tour(inputs, weights)"
   ]
  },
  {
   "cell_type": "markdown",
   "metadata": {},
   "source": [
    "## 4.3 Data Clustering: Votes of MPs"
   ]
  },
  {
   "cell_type": "code",
   "execution_count": null,
   "metadata": {},
   "outputs": [],
   "source": [
    "def get_data_votes(file='votes'):\n",
    "    if file == 'votes':\n",
    "        filename = \"data/votes.dat\"\n",
    "        with open(filename) as f:\n",
    "            lines = f.readlines()[4:]\n",
    "            raw_data = [line.replace(\";\", '').replace('\\n', '').split(\",\") for line in lines]\n",
    "            data = np.array([ elem for singleList in raw_data for elem in singleList])\n",
    "            data = np.reshape(data, (cities,features))\n",
    "            data = data.astype(np.float)\n",
    "        return data"
   ]
  }
 ],
 "metadata": {
  "kernelspec": {
   "display_name": "Python 3",
   "language": "python",
   "name": "python3"
  },
  "language_info": {
   "codemirror_mode": {
    "name": "ipython",
    "version": 3
   },
   "file_extension": ".py",
   "mimetype": "text/x-python",
   "name": "python",
   "nbconvert_exporter": "python",
   "pygments_lexer": "ipython3",
   "version": "3.6.7"
  }
 },
 "nbformat": 4,
 "nbformat_minor": 2
}
