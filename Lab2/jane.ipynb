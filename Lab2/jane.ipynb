{
 "cells": [
  {
   "cell_type": "code",
   "execution_count": 43,
   "metadata": {},
   "outputs": [],
   "source": [
    "import pandas as pd\n",
    "from math import *\n",
    "import numpy as np\n",
    "import matplotlib.pyplot as plt\n",
    "from sklearn import preprocessing\n",
    "import seaborn as sns\n",
    "import time\n",
    "import random"
   ]
  },
  {
   "cell_type": "markdown",
   "metadata": {},
   "source": [
    "# LAB 2 - PART I.1 and I.2"
   ]
  },
  {
   "cell_type": "markdown",
   "metadata": {},
   "source": [
    "**What is the lower bound  for the number of training examples N?**\n",
    "\n",
    "We need N>n (n is dimension of the output representation = number of weights): the lower bound is n.\n",
    "\n",
    "\n",
    "**What happens with the error if N = n? Why?**\n",
    "\n",
    "\n",
    "There is only one solution to the system (4): the training error will converge to 0 if the system has a solution, else the error won't converge?\n",
    "\n",
    "\n",
    "**Under what conditions, if any, does (4) have a solution in this case?**\n",
    "\n",
    "If we represent this system as $\\Phi W = f$ then we need $\\Phi$ to be invertible for the system to have ONE solution or we need the rank of $\\Phi$ to be the same as the rank of the concatenation of $\\Phi$ and $f$ for the system to have at least one solution.\n",
    "\n",
    "**During training we use an error measure defi􏰀ned over the training examples. Is it good to use this measure when evaluating the performance of the network? Explain!**\n",
    "\n",
    "Using the same error (MSE) but for the test samples is fine?"
   ]
  },
  {
   "cell_type": "markdown",
   "metadata": {},
   "source": [
    "## 3.1 Batch mode training using least squares - supervised learning of network weights"
   ]
  },
  {
   "cell_type": "markdown",
   "metadata": {},
   "source": [
    "### Creating the patterns (train and testdatasets)"
   ]
  },
  {
   "cell_type": "code",
   "execution_count": 2,
   "metadata": {},
   "outputs": [],
   "source": [
    "pattern_test = np.arange(0, 2*np.pi, 0.1)\n",
    "pattern_train = np.arange(0.05, 2*np.pi, 0.1)\n",
    "\n",
    "sin_test = np.sin(2*pattern_test)\n",
    "sin_train = np.sin(2*pattern_train)\n"
   ]
  },
  {
   "cell_type": "code",
   "execution_count": 3,
   "metadata": {},
   "outputs": [],
   "source": [
    "def box(x):\n",
    "    if x >= 0 : \n",
    "        return 1\n",
    "    else :\n",
    "        return -1\n",
    "\n",
    "vbox = np.vectorize(box)\n",
    "square_test = vbox(sin_test)\n",
    "square_train = vbox(sin_train)"
   ]
  },
  {
   "cell_type": "code",
   "execution_count": 4,
   "metadata": {},
   "outputs": [
    {
     "data": {
      "image/png": "[encoded data removed]",
      "text/plain": [
       "<Figure size 432x288 with 1 Axes>"
      ]
     },
     "metadata": {
      "needs_background": "light"
     },
     "output_type": "display_data"
    }
   ],
   "source": [
    "plt.scatter( pattern_train, sin_train, label =\"f(x)=sin(2x); train set\")\n",
    "plt.scatter(pattern_test, sin_test, label =\"f(x)=sin(2x); test set\")\n",
    "plt.scatter(pattern_train, square_train, label =\"f(x)=square(sin(2x)); test set\")\n",
    "plt.scatter(pattern_test, square_test, label =\"f(x)=square(sin(2x)); train set\")\n",
    "plt.xlabel(\"x\")\n",
    "plt.ylabel(\"f(x)\")\n",
    "plt.legend()\n",
    "plt.title(\"Selected points for training and testing\")\n",
    "plt.plot()\n",
    "plt.show()"
   ]
  },
  {
   "cell_type": "markdown",
   "metadata": {},
   "source": [
    "### Implementing batch learning (all samples accessible at once)"
   ]
  },
  {
   "cell_type": "markdown",
   "metadata": {},
   "source": [
    "We decide to place the RBFs equidistancely inside the input domain, leaving have that distance before the first RBF and after the last RBF."
   ]
  },
  {
   "cell_type": "markdown",
   "metadata": {},
   "source": [
    "We choose sigma so that centers don't overlap too much (we don't want the centers to be too spread out)"
   ]
  },
  {
   "cell_type": "code",
   "execution_count": 9,
   "metadata": {},
   "outputs": [],
   "source": [
    "def placeRBFs(n, pattern_0, pattern_f) :\n",
    "    \"\"\"\n",
    "    Places the RBFs equidistancely inside the input domain (1D case here)\n",
    "    leaving half that distance before the first RBF and after the last RBF\n",
    "    \n",
    "    inputs:\n",
    "    number of RBFs\n",
    "    pattern_0: lower boundary of input interval\n",
    "    pattern_f: upper boundary of output interval\n",
    "    \n",
    "    output:\n",
    "    RBF positions in R\n",
    "    \n",
    "    \"\"\"\n",
    "    d = (pattern_f - pattern_0)*1.0/n\n",
    "    return np.arange(pattern_0 + d/2, pattern_f - d/2 + 10**-8, d)\n",
    "\n",
    "def gaussianRBF(x, i, mu, sigma):\n",
    "    return np.exp(-(x-mu[i])**2/(2*(sigma[i]**2)))\n",
    "    #return np.exp(-(x-mu[i])**2/(2*(sigma[i]**2)))\n",
    "\n",
    "def transpose(M) :\n",
    "    return [[M[i][j] for i in range(len(M))] for j in range(len(M[0]))]\n",
    "\n",
    "\n",
    "def trainRBF(n_RBF, x_train, y_train, x_test, y_test, var_RBF = 1, apply_box_pred=False) :\n",
    "    \n",
    "    # computing phi matrix\n",
    "    mu = placeRBFs(n_RBF, 0, 2*np.pi)\n",
    "    #var_RBF = 2*np.pi/n_RBF*k_var\n",
    "    sigma = var_RBF * np.ones(n_RBF)\n",
    "    phi_i = gaussianRBF(0.1, 2, mu, sigma)\n",
    "    phi = np.array([[gaussianRBF(x_train[j], i, mu, sigma) for i in range(n_RBF)]\n",
    "                    for j in range(len(x_train))])\n",
    "    phiT = np.array(transpose(phi))\n",
    "    \n",
    "    # solving least squares\n",
    "    w = np.linalg.inv(phiT.dot(phi)).dot(phiT.dot(y_train))\n",
    "    \n",
    "    #\n",
    "    phi_test = np.array([[gaussianRBF(x_test[j], i, mu, sigma) for i in range(n_RBF)] for j in range(len(x_train))])\n",
    "    y_pred = phi_test.dot(w)\n",
    "    \n",
    "    if apply_box_pred == True:\n",
    "        return np.mean(abs(vbox(phi.dot(w)) - y_train))\n",
    "    \n",
    "    else:\n",
    "        return np.mean(abs(phi.dot(w) - y_train))\n",
    "\n",
    "    \n",
    "    #return np.mean(abs(phi.dot(w) - y_train)), np.mean(abs(y_pred - y_test))"
   ]
  },
  {
   "cell_type": "code",
   "execution_count": 10,
   "metadata": {},
   "outputs": [
    {
     "data": {
      "text/plain": [
       "[]"
      ]
     },
     "execution_count": 10,
     "metadata": {},
     "output_type": "execute_result"
    },
    {
     "data": {
      "image/png": "[encoded data removed]",
      "text/plain": [
       "<Figure size 432x288 with 1 Axes>"
      ]
     },
     "metadata": {
      "needs_background": "light"
     },
     "output_type": "display_data"
    }
   ],
   "source": [
    "res_val = []\n",
    "n1 = 3\n",
    "n2 = len(pattern_train+1)\n",
    "for n_RBF in range(n1, n2):\n",
    "    res_val.append(trainRBF(n_RBF, pattern_train, sin_train, pattern_test, sin_test, var_RBF = 2*np.pi/n_RBF*1.5))\n",
    "plt.plot(np.arange(n1, n2,1), res_val)\n",
    "plt.xlabel(\"n_RBF\")\n",
    "plt.ylabel(\"train residual value\")\n",
    "plt.title(\"The influence of n_RBF over the train residual value (sin case)\")\n",
    "plt.plot()"
   ]
  },
  {
   "cell_type": "markdown",
   "metadata": {},
   "source": [
    "### To choose variance "
   ]
  },
  {
   "cell_type": "code",
   "execution_count": 284,
   "metadata": {},
   "outputs": [
    {
     "name": "stdout",
     "output_type": "stream",
     "text": [
      "122\n",
      "2.7481091459592184\n"
     ]
    },
    {
     "data": {
      "text/plain": [
       "166"
      ]
     },
     "execution_count": 284,
     "metadata": {},
     "output_type": "execute_result"
    }
   ],
   "source": [
    "\n",
    "k_var_array = np.arange(0.8, 2, 0.005)\n",
    "print(len(var_array))\n",
    "t0= time.time()\n",
    "res_val = [np.mean([trainRBF(n_RBF, pattern_train, sin_train, pattern_test, sin_test, var_RBF = 2*np.pi/n_RBF*k_var_RBF)\n",
    "                for n_RBF in range(10, len(pattern_train)+1)])\n",
    "                for k_var_RBF in k_var_array]\n",
    "print((time.time()-t0)/60)\n",
    "res_val.index(min(res_val))"
   ]
  },
  {
   "cell_type": "code",
   "execution_count": 289,
   "metadata": {},
   "outputs": [],
   "source": [
    "def chooseRBFvar(x_train, y_train):\n",
    "    var0 = 2*np.pi/n_RBF\n",
    "    k_var_array = np.arange(0.2, 2, 0.005)\n",
    "    t0 = time.time()\n",
    "    res_val = [np.mean([trainRBF(n_RBF, x_train = x_train, y_train = y_train, x_test = x_train, y_test = y_train, var_RBF = 2*np.pi/n_RBF*k_var_RBF)\n",
    "                for n_RBF in range(10, len(pattern_train)+1)])\n",
    "                for k_var_RBF in k_var_array]\n",
    "    return k_var_array[res_val.index(min(res_val))]\n",
    "\n",
    "#k_var_sin = chooseRBFvar(pattern_train, sin_train)\n",
    "#print(\"we choose var of sin function network RBF close to 2 * np.pi / n_RBF * \", k_var_sin )\n",
    "\n",
    "#k_var_square = chooseRBFvar(pattern_train, square_train)\n",
    "#print(\"we choose var of square function network RBF close to 2 * np.pi / n_RBF * \", k_var_square )\n",
    "\n"
   ]
  },
  {
   "cell_type": "code",
   "execution_count": 290,
   "metadata": {},
   "outputs": [
    {
     "name": "stdout",
     "output_type": "stream",
     "text": [
      "we choose var of square function network RBF close to 2 * np.pi / n_RBF *  0.45500000000000024\n"
     ]
    }
   ],
   "source": [
    "k_var_square = chooseRBFvar(pattern_train, square_train)\n",
    "print(\"we choose var of square function network RBF close to 2 * np.pi / n_RBF * \", k_var_square )\n",
    "\n",
    "\n"
   ]
  },
  {
   "cell_type": "markdown",
   "metadata": {},
   "source": [
    "### Finding n_RBF for each threshold"
   ]
  },
  {
   "cell_type": "markdown",
   "metadata": {},
   "source": [
    "##### ALSO: Transforming output of sin RBF network to get square prediction\n",
    "\n",
    "We just apply the same transformation we applied to get the square function target values initially (g(x) = box(x))"
   ]
  },
  {
   "cell_type": "code",
   "execution_count": 348,
   "metadata": {},
   "outputs": [
    {
     "data": {
      "image/png": "[encoded data removed]",
      "text/plain": [
       "<Figure size 432x288 with 1 Axes>"
      ]
     },
     "metadata": {
      "needs_background": "light"
     },
     "output_type": "display_data"
    }
   ],
   "source": [
    "res_val_sin = []\n",
    "n1 = 3\n",
    "n2 = len(pattern_train)+1\n",
    "k_var_sin = 1.63\n",
    "for n_RBF in range(n1, n2):\n",
    "    res_val_sin.append(trainRBF(n_RBF, pattern_train, sin_train, pattern_test, sin_test, var_RBF = 2*np.pi/n_RBF*k_var_sin))\n",
    "\n",
    "res_val_square = []\n",
    "k_var_square = 0.46\n",
    "for n_RBF in range(n1, n2):\n",
    "    res_val_square.append(trainRBF(n_RBF, pattern_train, square_train, pattern_test, square_test, var_RBF = 2*np.pi/n_RBF*k_var_square))\n",
    "\n",
    "res_val_boxed_sin = []\n",
    "k_var_boxed_sin = 0.46\n",
    "for n_RBF in range(n1, n2):\n",
    "    res_val_boxed_sin.append(trainRBF(n_RBF, pattern_train, square_train, pattern_test, square_test, var_RBF = 2*np.pi/n_RBF*k_var_square, apply_box_pred = True))\n",
    "\n",
    "\n",
    "\n",
    "plt.plot(np.arange(n1, n2, 1), res_val_sin, label = \"sin\")\n",
    "plt.plot(np.arange(n1, n2, 1), res_val_square, label = \"square\")\n",
    "plt.plot(np.arange(n1, n2, 1), res_val_boxed_sin, label = \"boxed sin\")\n",
    "\n",
    "plt.xlabel(\"n_RBF\")\n",
    "plt.ylabel(\"train residual value\")\n",
    "plt.title(\"The influence of n_RBF over the train residual value\")\n",
    "plt.legend()\n",
    "plt.plot()\n",
    "plt.show()"
   ]
  },
  {
   "cell_type": "code",
   "execution_count": 349,
   "metadata": {},
   "outputs": [
    {
     "name": "stdout",
     "output_type": "stream",
     "text": [
      " sin:\n",
      "0.1 -> 6\n",
      "0.01 -> 7\n",
      "0.001 -> 8\n",
      "None\n",
      "\n",
      " square:\n",
      "0.1 -> 24\n",
      "0.01 -> 55\n",
      "0.001 -> 59\n",
      "None\n",
      "\n",
      " boxed sin:\n",
      "0.1 -> 4\n",
      "0.01 -> 4\n",
      "0.001 -> 4\n",
      "None\n"
     ]
    }
   ],
   "source": [
    "def find_thresholds(list):\n",
    "    l, j, k = 0, 0, 0\n",
    "    for i in range(len(list)) :\n",
    "        if list[i] < 0.1 and l == 0:\n",
    "            print(\"0.1 ->\", i + n1)\n",
    "            l = 1\n",
    "        if list[i] < 0.01 and j == 0:\n",
    "            print(\"0.01 ->\", i + n1)\n",
    "            j=1\n",
    "        if list[i] < 0.001 and k == 0:\n",
    "            print(\"0.001 ->\", i + n1)\n",
    "            k=1\n",
    "\n",
    "print(\" sin:\")\n",
    "print(find_thresholds(res_val_sin))\n",
    "print(\"\\n square:\")\n",
    "print(find_thresholds(res_val_square))\n",
    "print(\"\\n boxed sin:\")\n",
    "print(find_thresholds(res_val_boxed_sin))"
   ]
  },
  {
   "cell_type": "markdown",
   "metadata": {},
   "source": [
    "However, square and boxed sin errors increase again (see plot above)"
   ]
  },
  {
   "cell_type": "markdown",
   "metadata": {},
   "source": [
    "boxed sin\n",
    "\n",
    "0.1 -> 6\n",
    "\n",
    "0.01 -> 18\n",
    "\n",
    "0.001 -> 18\n",
    "\n",
    "\n",
    "\n",
    "sin\n",
    "\n",
    "0.1 -> 35\n",
    "\n",
    "0.01 -> 63\n",
    "\n",
    "0.001 -> 63"
   ]
  },
  {
   "cell_type": "markdown",
   "metadata": {},
   "source": [
    "## 3.2 Regression with noise"
   ]
  },
  {
   "cell_type": "markdown",
   "metadata": {},
   "source": [
    "### Add noise"
   ]
  },
  {
   "cell_type": "code",
   "execution_count": 11,
   "metadata": {},
   "outputs": [],
   "source": [
    "mean = 0\n",
    "std = np.sqrt(0.1)\n",
    "\n",
    "pattern_test_noise = pattern_test + np.random.normal(mean, std, np.shape(pattern_test))\n",
    "pattern_train_noise = pattern_train + np.random.normal(mean, std, np.shape(pattern_train))\n",
    "\n",
    "sin_test_noise = sin_test + np.random.normal(mean, std, np.shape(sin_test))\n",
    "sin_train_noise = sin_train + np.random.normal(mean, std, np.shape(sin_train))\n",
    "\n",
    "square_test_noise = square_test + np.random.normal(mean, std, np.shape(square_test))\n",
    "square_train_noise = square_train + np.random.normal(mean, std, np.shape(square_train))"
   ]
  },
  {
   "cell_type": "markdown",
   "metadata": {},
   "source": [
    "### Implementation of on-line learning with delta rule"
   ]
  },
  {
   "cell_type": "code",
   "execution_count": 98,
   "metadata": {},
   "outputs": [],
   "source": [
    "def deltaRBF(x_train, y_train, x_test, y_test, n_RBF = 20, var_RBF =1, return_training = False, eta=1, n_epochs = 10) : \n",
    "\n",
    "    k=1\n",
    "    # computing phi matrix\n",
    "    mu = placeRBFs(n_RBF, 0, 2*np.pi)\n",
    "    sigma = var_RBF * np.ones(n_RBF)\n",
    "    train_errors = []\n",
    "    w = np.ones(n_RBF).reshape((n_RBF, 1))\n",
    "    \n",
    "    for m in range(n_epochs):\n",
    "        random_indices = random.sample(list(np.arange(0,len(x_train), 1)), len(x_train))\n",
    "        for k in random_indices :\n",
    "            phi_k = np.array([[gaussianRBF(x_train[k], i, mu, sigma)] for i in range(n_RBF)])\n",
    "\n",
    "            delta_w = eta * (y_train[k] - np.array(transpose(phi_k)).dot(w))[0][0]* phi_k\n",
    "            w = w + delta_w\n",
    "            if return_training == True :\n",
    "                phi_train = np.array([[gaussianRBF(x_train[j], i, mu, sigma) for i in range(n_RBF)] for j in range(len(x_train))])\n",
    "                y_pred_train = phi_train.dot(w)\n",
    "                train_errors.append(np.mean(abs(y_pred_train - y_train)))\n",
    "\n",
    "    phi_test = np.array([[gaussianRBF(x_test[j], i, mu, sigma) for i in range(n_RBF)] for j in range(len(x_train))])\n",
    "    y_pred = phi_test.dot(w)\n",
    "\n",
    "    if return_training == True :\n",
    "        return np.mean(abs(y_pred - y_train)), train_errors\n",
    "    \n",
    "    else:\n",
    "        return np.mean(abs(y_pred - y_train))\n"
   ]
  },
  {
   "cell_type": "code",
   "execution_count": 99,
   "metadata": {},
   "outputs": [],
   "source": [
    " \n",
    "a,b = deltaRBF(x_train = pattern_train_noise,\n",
    "         y_train = sin_train_noise,\n",
    "         x_test = pattern_train_noise,\n",
    "         y_test = sin_train_noise,\n",
    "         var_RBF = 1,\n",
    "           return_training = True,\n",
    "              eta = 0.001, \n",
    "              n_epochs = 20)\n"
   ]
  },
  {
   "cell_type": "code",
   "execution_count": 100,
   "metadata": {},
   "outputs": [
    {
     "data": {
      "text/plain": [
       "[<matplotlib.lines.Line2D at 0x1a26823ef0>]"
      ]
     },
     "execution_count": 100,
     "metadata": {},
     "output_type": "execute_result"
    },
    {
     "data": {
      "image/png": "[encoded data removed]",
      "text/plain": [
       "<Figure size 432x288 with 1 Axes>"
      ]
     },
     "metadata": {
      "needs_background": "light"
     },
     "output_type": "display_data"
    }
   ],
   "source": [
    "plt.plot(b)"
   ]
  },
  {
   "cell_type": "markdown",
   "metadata": {},
   "source": [
    "### Effect of number of RBFs"
   ]
  },
  {
   "cell_type": "code",
   "execution_count": 114,
   "metadata": {},
   "outputs": [],
   "source": [
    "def avgdeltaRBF(n_avg = 10, var_RBF= 1, n_RBF = 10) :\n",
    "    scores = []\n",
    "    for i in range(10):\n",
    "        a  = deltaRBF(x_train = pattern_train_noise,\n",
    "             y_train = sin_train_noise,\n",
    "             x_test = pattern_train_noise,\n",
    "             y_test = sin_train_noise,\n",
    "            n_RBF = n_RBF,\n",
    "             var_RBF = var_RBF,\n",
    "               return_training = False,\n",
    "                  eta = 0.001, \n",
    "                  n_epochs = 20)\n",
    "        scores.append(a)\n",
    "    return np.mean(scores)\n",
    "    "
   ]
  },
  {
   "cell_type": "code",
   "execution_count": 118,
   "metadata": {},
   "outputs": [
    {
     "name": "stdout",
     "output_type": "stream",
     "text": [
      "0.7482747634251913\n"
     ]
    }
   ],
   "source": [
    "t0=time.time()\n",
    "var_RBF_array = np.arange(0.1, 1, 0.2)\n",
    "n_RBF_array = np.arange(10, 61, 10)\n",
    "scores = [[avgdeltaRBF(10, var_RBF, n_RBF)\n",
    "         for var_RBF in var_RBF_array ]\n",
    "          for n_RBF in n_RBF_array]\n",
    "print((time.time()-t0)/60)"
   ]
  },
  {
   "cell_type": "code",
   "execution_count": 120,
   "metadata": {},
   "outputs": [
    {
     "data": {
      "text/plain": [
       "<matplotlib.axes._subplots.AxesSubplot at 0x1a268c7860>"
      ]
     },
     "execution_count": 120,
     "metadata": {},
     "output_type": "execute_result"
    },
    {
     "data": {
      "image/png": "[encoded data removed]",
      "text/plain": [
       "<Figure size 432x288 with 2 Axes>"
      ]
     },
     "metadata": {
      "needs_background": "light"
     },
     "output_type": "display_data"
    }
   ],
   "source": [
    "sns.heatmap(scores)"
   ]
  },
  {
   "cell_type": "code",
   "execution_count": null,
   "metadata": {},
   "outputs": [],
   "source": []
  }
 ],
 "metadata": {
  "kernelspec": {
   "display_name": "Python 3",
   "language": "python",
   "name": "python3"
  },
  "language_info": {
   "codemirror_mode": {
    "name": "ipython",
    "version": 3
   },
   "file_extension": ".py",
   "mimetype": "text/x-python",
   "name": "python",
   "nbconvert_exporter": "python",
   "pygments_lexer": "ipython3",
   "version": "3.7.3"
  }
 },
 "nbformat": 4,
 "nbformat_minor": 2
}
