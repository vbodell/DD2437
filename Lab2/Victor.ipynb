{
 "cells": [
  {
   "cell_type": "markdown",
   "metadata": {},
   "source": [
    "# Lab 2\n",
    "## 4.1 Topological Ordering of Animal Species"
   ]
  },
  {
   "cell_type": "markdown",
   "metadata": {},
   "source": [
    "In particular, your task is to write the core algorithm. Use a weight matrix of size 100 × 84 initialized with random numbers between zero and one. Use an outer loop to train the network for about 20 epochs, and an inner loop which loops through the 32 animals, one at a time."
   ]
  },
  {
   "cell_type": "code",
   "execution_count": 1,
   "metadata": {},
   "outputs": [],
   "source": [
    "import numpy as np\n",
    "import matplotlib.pyplot as plt"
   ]
  },
  {
   "cell_type": "code",
   "execution_count": 2,
   "metadata": {},
   "outputs": [],
   "source": [
    "ANIMALS = 32\n",
    "DIMS = 84\n",
    "HIDDEN_NODES = 100"
   ]
  },
  {
   "cell_type": "code",
   "execution_count": 3,
   "metadata": {},
   "outputs": [],
   "source": [
    "def get_data(file='animals'):\n",
    "    if file == 'animals':\n",
    "        filename = \"data/animals.dat\"\n",
    "        props = np.zeros((ANIMALS, DIMS))\n",
    "        with open(filename) as f:\n",
    "            data = f.read().split(',')\n",
    "            for ndx in range(ANIMALS):\n",
    "                props[ndx,:] = data[ndx*DIMS : (ndx+1)*DIMS]\n",
    "        return props\n",
    "        "
   ]
  },
  {
   "cell_type": "code",
   "execution_count": 36,
   "metadata": {},
   "outputs": [],
   "source": [
    "def get_weights(size, sd=0.01):\n",
    "    return np.random.normal(0, sd, size)"
   ]
  },
  {
   "cell_type": "code",
   "execution_count": 37,
   "metadata": {},
   "outputs": [],
   "source": [
    "weights = get_weights((HIDDEN_NODES, DIMS))\n",
    "props = get_data()"
   ]
  },
  {
   "cell_type": "markdown",
   "metadata": {},
   "source": [
    "### SOM Algorithm\n",
    "1. Calculate the similarity between the input pattern and the weights arriving at each output node.\n",
    "2. Find the most similar node; *winner*\n",
    "3. Select a set of output nodes which are located close to the winner *in the output grid*; *neighbourhood*.\n",
    "4. Update the weights of all nodes in the neighbourhood such that their weights are moved closer to the input pattern"
   ]
  },
  {
   "cell_type": "markdown",
   "metadata": {},
   "source": [
    "Make the size of the neighbourhood depend on the epoch loop variable so that you start with a neighbourhood of about 50 and end up close to one or zero."
   ]
  },
  {
   "cell_type": "code",
   "execution_count": 38,
   "metadata": {},
   "outputs": [],
   "source": [
    "def neighborhood(ndx, epoch, max_range):\n",
    "    nbrhd_range = int(50 - epoch*2.5)\n",
    "    nbrhd_min = np.max([0, ndx-nbrhd_range])\n",
    "    nbrhd_max = np.min([max_range, ndx+nbrhd_range])\n",
    "    return np.arange(nbrhd_min, nbrhd_max)"
   ]
  },
  {
   "cell_type": "code",
   "execution_count": 39,
   "metadata": {},
   "outputs": [],
   "source": [
    "def train_SOM(props, weights, step_size=0.2, epochs=20, eta=0.2):\n",
    "    for epoch in range(epochs):\n",
    "        for animalNdx in range(ANIMALS):\n",
    "            # Calculate similarity between input pattern and weights\n",
    "            #  Ignore Sqrt since we only care about the winner\n",
    "            similarity = np.sum(\n",
    "                np.square(props[animalNdx,:]-weights), axis=1)\n",
    "            # Select winner\n",
    "            winner = np.argmin(similarity)\n",
    "            # Update weights in neighborhood\n",
    "            nbrs = neighborhood(winner, epoch, HIDDEN_NODES)\n",
    "            weights[nbrs,:] = weights[nbrs,:] + \\\n",
    "              eta*(props[animalNdx,:] - weights[nbrs,:])\n",
    "    return weights"
   ]
  },
  {
   "cell_type": "code",
   "execution_count": 40,
   "metadata": {},
   "outputs": [],
   "source": [
    "w_trained = train_SOM(props, weights)"
   ]
  },
  {
   "cell_type": "code",
   "execution_count": 41,
   "metadata": {},
   "outputs": [],
   "source": [
    "def get_animal_names():\n",
    "    with open(\"data/animalnames.txt\") as f:\n",
    "            animals = f.read().replace(\"\\t\\n'\", '')\n",
    "    animals = animals.replace(\"\\n\", \"\").replace(\"''\", \"'\").split(\"'\")\n",
    "    return animals[1:len(animals)-1]"
   ]
  },
  {
   "cell_type": "markdown",
   "metadata": {},
   "source": [
    "Sort based on output nodes:\n",
    "Animals next to each other in the listing should always have some similarity between them. Insects should typically be grouped together, separate from the di􏰃erent cats, for example."
   ]
  },
  {
   "cell_type": "code",
   "execution_count": 42,
   "metadata": {},
   "outputs": [],
   "source": [
    "def print_ordering(props, weights):\n",
    "    pos = {}\n",
    "    for animalNdx in range(ANIMALS):\n",
    "        similarity = np.sum(\n",
    "            np.square(props[animalNdx,:] - weights), axis=1)\n",
    "        pos[animalNdx] = np.argmin(similarity)\n",
    "\n",
    "    sorted_pos = sorted(pos.items(), key=lambda kv: kv[1])\n",
    "    animal_names = get_animal_names()\n",
    "    for ndx in sorted_pos:\n",
    "        print(animal_names[ndx[0]])"
   ]
  },
  {
   "cell_type": "code",
   "execution_count": 44,
   "metadata": {},
   "outputs": [
    {
     "name": "stdout",
     "output_type": "stream",
     "text": [
      "beetle\n",
      "dragonfly\n",
      "grasshopper\n",
      "butterfly\n",
      "moskito\n",
      "housefly\n",
      "spider\n",
      "ostrich\n",
      "penguin\n",
      "duck\n",
      "pelican\n",
      "frog\n",
      "seaturtle\n",
      "crocodile\n",
      "walrus\n",
      "bear\n",
      "hyena\n",
      "dog\n",
      "lion\n",
      "ape\n",
      "cat\n",
      "skunk\n",
      "rat\n",
      "bat\n",
      "elephant\n",
      "rabbit\n",
      "kangaroo\n",
      "antelop\n",
      "horse\n",
      "pig\n",
      "camel\n",
      "giraffe\n"
     ]
    }
   ],
   "source": [
    "print_ordering(props, w_trained)"
   ]
  },
  {
   "cell_type": "code",
   "execution_count": null,
   "metadata": {},
   "outputs": [],
   "source": []
  }
 ],
 "metadata": {
  "kernelspec": {
   "display_name": "Python 3",
   "language": "python",
   "name": "python3"
  },
  "language_info": {
   "codemirror_mode": {
    "name": "ipython",
    "version": 3
   },
   "file_extension": ".py",
   "mimetype": "text/x-python",
   "name": "python",
   "nbconvert_exporter": "python",
   "pygments_lexer": "ipython3",
   "version": "3.6.2"
  }
 },
 "nbformat": 4,
 "nbformat_minor": 2
}
