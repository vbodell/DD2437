{
 "cells": [
  {
   "cell_type": "markdown",
   "metadata": {},
   "source": [
    "# Lab 2\n",
    "## 4.1 Topological Ordering of Animal Species"
   ]
  },
  {
   "cell_type": "markdown",
   "metadata": {},
   "source": [
    "In particular, your task is to write the core algorithm. Use a weight matrix of size 100 × 84 initialized with random numbers between zero and one. Use an outer loop to train the network for about 20 epochs, and an inner loop which loops through the 32 animals, one at a time."
   ]
  },
  {
   "cell_type": "code",
   "execution_count": 1,
   "metadata": {},
   "outputs": [],
   "source": [
    "import numpy as np\n",
    "import matplotlib.pyplot as plt"
   ]
  },
  {
   "cell_type": "code",
   "execution_count": 2,
   "metadata": {},
   "outputs": [],
   "source": [
    "ANIMALS = 32\n",
    "DIMS = 84\n",
    "HIDDEN_NODES = 100"
   ]
  },
  {
   "cell_type": "code",
   "execution_count": 3,
   "metadata": {},
   "outputs": [],
   "source": [
    "def get_data(file='animals'):\n",
    "    if file == 'animals':\n",
    "        filename = \"data/animals.dat\"\n",
    "        props = np.zeros((ANIMALS, DIMS))\n",
    "        with open(filename) as f:\n",
    "            data = f.read().split(',')\n",
    "            for ndx in range(ANIMALS):\n",
    "                props[ndx,:] = data[ndx*DIMS : (ndx+1)*DIMS]\n",
    "        return props\n",
    "        "
   ]
  },
  {
   "cell_type": "code",
   "execution_count": 36,
   "metadata": {},
   "outputs": [],
   "source": [
    "def get_weights(size, sd=0.01):\n",
    "    return np.random.normal(0, sd, size)"
   ]
  },
  {
   "cell_type": "code",
   "execution_count": 37,
   "metadata": {},
   "outputs": [],
   "source": [
    "weights = get_weights((HIDDEN_NODES, DIMS))\n",
    "props = get_data()"
   ]
  },
  {
   "cell_type": "markdown",
   "metadata": {},
   "source": [
    "### SOM Algorithm\n",
    "1. Calculate the similarity between the input pattern and the weights arriving at each output node.\n",
    "2. Find the most similar node; *winner*\n",
    "3. Select a set of output nodes which are located close to the winner *in the output grid*; *neighbourhood*.\n",
    "4. Update the weights of all nodes in the neighbourhood such that their weights are moved closer to the input pattern"
   ]
  },
  {
   "cell_type": "markdown",
   "metadata": {},
   "source": [
    "Make the size of the neighbourhood depend on the epoch loop variable so that you start with a neighbourhood of about 50 and end up close to one or zero."
   ]
  },
  {
   "cell_type": "code",
   "execution_count": 55,
   "metadata": {},
   "outputs": [],
   "source": [
    "def neighborhood(ndx, epoch, max_range):\n",
    "    nbrhd_range = int(50 - epoch*2.5)\n",
    "    nbrhd_min = np.max([0, ndx-nbrhd_range])\n",
    "    nbrhd_max = np.min([max_range, ndx+nbrhd_range])\n",
    "    return np.arange(nbrhd_min, nbrhd_max)"
   ]
  },
  {
   "cell_type": "code",
   "execution_count": 56,
   "metadata": {},
   "outputs": [],
   "source": [
    "def train_SOM(props, weights, step_size=0.2, epochs=20, eta=0.2):\n",
    "    for epoch in range(epochs):\n",
    "        for animalNdx in range(ANIMALS):\n",
    "            # Calculate similarity between input pattern and weights\n",
    "            #  Ignore Sqrt since we only care about the winner\n",
    "            similarity = np.sum(\n",
    "                np.square(props[animalNdx,:]-weights), axis=1)\n",
    "            # Select winner\n",
    "            winner = np.argmin(similarity)\n",
    "            # Update weights in neighborhood\n",
    "            nbrs = neighborhood(winner, epoch, HIDDEN_NODES)\n",
    "            weights[nbrs,:] = weights[nbrs,:] + \\\n",
    "              eta*(props[animalNdx,:] - weights[nbrs,:])\n",
    "    return weights"
   ]
  },
  {
   "cell_type": "code",
   "execution_count": 57,
   "metadata": {},
   "outputs": [],
   "source": [
    "w_trained = train_SOM(props, weights)"
   ]
  },
  {
   "cell_type": "code",
   "execution_count": 58,
   "metadata": {},
   "outputs": [],
   "source": [
    "def get_animal_names():\n",
    "    with open(\"data/animalnames.txt\") as f:\n",
    "            animals = f.read().replace(\"\\t\\n'\", '')\n",
    "    animals = animals.replace(\"\\n\", \"\").replace(\"''\", \"'\").split(\"'\")\n",
    "    return animals[1:len(animals)-1]"
   ]
  },
  {
   "cell_type": "markdown",
   "metadata": {},
   "source": [
    "Sort based on output nodes:\n",
    "Animals next to each other in the listing should always have some similarity between them. Insects should typically be grouped together, separate from the di􏰃erent cats, for example."
   ]
  },
  {
   "cell_type": "code",
   "execution_count": 59,
   "metadata": {},
   "outputs": [],
   "source": [
    "def print_ordering(props, weights):\n",
    "    pos = {}\n",
    "    for animalNdx in range(ANIMALS):\n",
    "        similarity = np.sum(\n",
    "            np.square(props[animalNdx,:] - weights), axis=1)\n",
    "        pos[animalNdx] = np.argmin(similarity)\n",
    "\n",
    "    sorted_pos = sorted(pos.items(), key=lambda kv: kv[1])\n",
    "    animal_names = get_animal_names()\n",
    "    for ndx in sorted_pos:\n",
    "        print(animal_names[ndx[0]])"
   ]
  },
  {
   "cell_type": "code",
   "execution_count": 63,
   "metadata": {},
   "outputs": [
    {
     "name": "stdout",
     "output_type": "stream",
     "text": [
      "beetle\n",
      "dragonfly\n",
      "grasshopper\n",
      "butterfly\n",
      "moskito\n",
      "housefly\n",
      "spider\n",
      "duck\n",
      "pelican\n",
      "penguin\n",
      "ostrich\n",
      "frog\n",
      "seaturtle\n",
      "crocodile\n",
      "walrus\n",
      "bear\n",
      "hyena\n",
      "dog\n",
      "ape\n",
      "cat\n",
      "lion\n",
      "skunk\n",
      "rat\n",
      "bat\n",
      "elephant\n",
      "kangaroo\n",
      "rabbit\n",
      "antelop\n",
      "horse\n",
      "camel\n",
      "giraffe\n",
      "pig\n"
     ]
    }
   ],
   "source": [
    "print_ordering(props, w_trained)"
   ]
  },
  {
   "cell_type": "markdown",
   "metadata": {},
   "source": [
    "## 3.3 Competitive learning (CL) to initialize RBF units"
   ]
  },
  {
   "cell_type": "code",
   "execution_count": 377,
   "metadata": {},
   "outputs": [],
   "source": [
    "# Network and data params\n",
    "RBF_UNITS = 35\n",
    "RBF_VAR = 0.1\n",
    "\n",
    "X_MIN = 0\n",
    "X_MAX = 2*np.pi"
   ]
  },
  {
   "cell_type": "code",
   "execution_count": 378,
   "metadata": {},
   "outputs": [],
   "source": [
    "# Data\n",
    "patterns = np.arange(0, X_MAX, 0.1)\n",
    "test_set = np.arange(0.05, X_MAX, 0.1)\n",
    "patterns = patterns.reshape((1, len(patterns)))\n",
    "test_set = test_set.reshape((1, len(test_set)))\n",
    "\n",
    "sin_2x = np.sin(2*patterns)\n",
    "square_2x = np.square(2*patterns)"
   ]
  },
  {
   "cell_type": "code",
   "execution_count": 379,
   "metadata": {},
   "outputs": [],
   "source": [
    "# Helper class for an RBF-unit\n",
    "class unit:\n",
    "    def __init__(self, mu, var):\n",
    "        self.mu = mu\n",
    "        self.var = var\n",
    "        self.sd = np.sqrt(var)"
   ]
  },
  {
   "cell_type": "code",
   "execution_count": 380,
   "metadata": {},
   "outputs": [],
   "source": [
    "def get_weights(size, sd=0.01):\n",
    "    return np.random.normal(0, sd, size)"
   ]
  },
  {
   "cell_type": "code",
   "execution_count": 455,
   "metadata": {},
   "outputs": [
    {
     "data": {
      "image/png": "[encoded data removed]",
      "text/plain": [
       "<Figure size 432x288 with 1 Axes>"
      ]
     },
     "metadata": {
      "needs_background": "light"
     },
     "output_type": "display_data"
    },
    {
     "data": {
      "text/plain": [
       "(35, 1)"
      ]
     },
     "execution_count": 455,
     "metadata": {},
     "output_type": "execute_result"
    }
   ],
   "source": [
    "# Spec network\n",
    "# means = np.random.choice(patterns[0,:], RBF_UNITS)\n",
    "means = np.arange(0, X_MAX, X_MAX/RBF_UNITS)\n",
    "units = [unit(means[row], RBF_VAR) for row in range(RBF_UNITS)]\n",
    "weights = get_weights((RBF_UNITS, 1)).reshape((RBF_UNITS, 1))\n",
    "\n",
    "plt.scatter(means, np.sin(2*means), c = 'r')\n",
    "plt.plot(patterns.T, sin_2x.T)\n",
    "plt.show()"
   ]
  },
  {
   "cell_type": "code",
   "execution_count": 435,
   "metadata": {},
   "outputs": [],
   "source": [
    "# Transformation function\n",
    "def phi(x, unit):\n",
    "    return np.exp(-np.square((x-unit.mu)) / (2*unit.var))\n",
    "\n",
    "def get_phi_matrix(patterns, units):\n",
    "    return np.array([[phi(patterns[0,pattern_ndx], units[unit_ndx])\n",
    "                    for unit_ndx in range(len(units))]\n",
    "                     for pattern_ndx in range(patterns.shape[1])])"
   ]
  },
  {
   "cell_type": "code",
   "execution_count": 436,
   "metadata": {},
   "outputs": [],
   "source": [
    "def least_squares_weights(phi_matrix, labels):\n",
    "    return np.dot(\n",
    "        np.linalg.inv(np.dot(phi_matrix.T, phi_matrix)), \n",
    "        np.dot(phi_matrix.T, labels.T))"
   ]
  },
  {
   "cell_type": "code",
   "execution_count": 437,
   "metadata": {},
   "outputs": [],
   "source": [
    "def residual_error(phi_matrix, weights, labels):\n",
    "    return np.sum(\n",
    "        np.abs(np.dot(phi_matrix, computed_weights) - labels.T)\n",
    "    )/labels.shape[1]"
   ]
  },
  {
   "cell_type": "code",
   "execution_count": 482,
   "metadata": {},
   "outputs": [],
   "source": [
    "def train_RBF(patterns, units, weights, labels, learning_rate=0.018):\n",
    "    for data_ndx in range(patterns.shape[1]):\n",
    "        # Compute Transformation function\n",
    "        phi_pattern = np.array(\n",
    "            [phi(patterns[0,data_ndx], unit) for unit in units]).reshape(1, len(units))\n",
    "\n",
    "        # Predict output\n",
    "        prediction = np.dot(phi_pattern, weights)\n",
    "        \n",
    "        np.dot(phi_pattern.T, weights.T)\n",
    "\n",
    "        # Use instantaneous error, or derivative thereof\n",
    "        # 1/2*np.square(labels[0,data_ndx] - prediction)\n",
    "        \n",
    "        dw = learning_rate*np.dot(\n",
    "            labels[0,data_ndx] - np.dot(phi_pattern.T, weights.T),\n",
    "            phi_pattern.T\n",
    "        )\n",
    "        weights = weights + dw\n",
    "    return weights"
   ]
  },
  {
   "cell_type": "code",
   "execution_count": 483,
   "metadata": {},
   "outputs": [],
   "source": [
    "phi_matrix = get_phi_matrix(patterns, units)\n",
    "computed_weights = least_squares_weights(phi_matrix, sin_2x)\n",
    "trained_weights = train_RBF(patterns, units, weights, sin_2x)"
   ]
  },
  {
   "cell_type": "code",
   "execution_count": 484,
   "metadata": {},
   "outputs": [
    {
     "data": {
      "text/plain": [
       "[<matplotlib.lines.Line2D at 0x123e26940>]"
      ]
     },
     "execution_count": 484,
     "metadata": {},
     "output_type": "execute_result"
    },
    {
     "data": {
      "image/png": "[encoded data removed]",
      "text/plain": [
       "<Figure size 432x288 with 1 Axes>"
      ]
     },
     "metadata": {
      "needs_background": "light"
     },
     "output_type": "display_data"
    }
   ],
   "source": [
    "plt.title(\"Estimated function using Least Squares solution\")\n",
    "# plt.plot(patterns[0,:], np.dot(phi_matrix, computed_weights), c='y')\n",
    "plt.plot(patterns[0,:], np.dot(phi_matrix, trained_weights), c='r')\n",
    "plt.plot(patterns[0,:], sin_2x[0,:], c='g')"
   ]
  },
  {
   "cell_type": "markdown",
   "metadata": {},
   "source": [
    "Residual error gets below 0.001 for 30 rbf-units, for >=35 units the error starts to increase. Variance = 0.1"
   ]
  },
  {
   "cell_type": "code",
   "execution_count": 389,
   "metadata": {},
   "outputs": [
    {
     "name": "stdout",
     "output_type": "stream",
     "text": [
      "0.0017843627004291373\n"
     ]
    }
   ],
   "source": [
    "print(residual_error(phi_matrix, weights, sin_2x))"
   ]
  },
  {
   "cell_type": "code",
   "execution_count": null,
   "metadata": {},
   "outputs": [],
   "source": []
  }
 ],
 "metadata": {
  "kernelspec": {
   "display_name": "Python 3",
   "language": "python",
   "name": "python3"
  },
  "language_info": {
   "codemirror_mode": {
    "name": "ipython",
    "version": 3
   },
   "file_extension": ".py",
   "mimetype": "text/x-python",
   "name": "python",
   "nbconvert_exporter": "python",
   "pygments_lexer": "ipython3",
   "version": "3.6.2"
  }
 },
 "nbformat": 4,
 "nbformat_minor": 2
}
