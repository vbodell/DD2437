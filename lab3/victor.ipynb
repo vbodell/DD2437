{
 "cells": [
  {
   "cell_type": "markdown",
   "metadata": {},
   "source": [
    "# DD2437 Lab 3, Hopfield networks"
   ]
  },
  {
   "cell_type": "code",
   "execution_count": 1,
   "metadata": {},
   "outputs": [],
   "source": [
    "import numpy as np\n",
    "import matplotlib.pyplot as plt"
   ]
  },
  {
   "cell_type": "code",
   "execution_count": 2,
   "metadata": {},
   "outputs": [],
   "source": [
    "# Data\n",
    "x1 = np.array([-1, -1, 1, -1, 1, -1, -1, 1])\n",
    "x2 = np.array([-1, -1, -1, -1, -1, 1, -1, -1])\n",
    "x3 = np.array([-1, 1, 1, -1, -1, 1, -1, 1])"
   ]
  },
  {
   "cell_type": "code",
   "execution_count": 3,
   "metadata": {},
   "outputs": [],
   "source": [
    "def sign(x):\n",
    "    return np.where(x < 0, -1, 1)"
   ]
  },
  {
   "cell_type": "code",
   "execution_count": 4,
   "metadata": {},
   "outputs": [],
   "source": [
    "def calc_weights(pattern, normalize=False):\n",
    "    if normalize:\n",
    "        return pattern.T.dot(pattern)/pattern.shape[1]\n",
    "    return pattern.T.dot(pattern)"
   ]
  },
  {
   "cell_type": "code",
   "execution_count": 5,
   "metadata": {},
   "outputs": [],
   "source": [
    "def update_rule(pattern, weights):\n",
    "    return sign(pattern.dot(weights))"
   ]
  },
  {
   "cell_type": "code",
   "execution_count": 6,
   "metadata": {},
   "outputs": [
    {
     "data": {
      "text/plain": [
       "True"
      ]
     },
     "execution_count": 6,
     "metadata": {},
     "output_type": "execute_result"
    }
   ],
   "source": [
    "pattern = np.c_[x1, x2, x3].T\n",
    "weights = calc_weights(pattern)\n",
    "(update_rule(pattern, weights) == pattern).all()"
   ]
  },
  {
   "cell_type": "markdown",
   "metadata": {},
   "source": [
    "Make sure that the above says true, this means we've initialized the hopfield network to maintain our x-input as fixed points. Not modifying them in the update step."
   ]
  },
  {
   "cell_type": "markdown",
   "metadata": {},
   "source": [
    "## 3.1 Convergence and attractors"
   ]
  },
  {
   "cell_type": "code",
   "execution_count": 73,
   "metadata": {},
   "outputs": [],
   "source": [
    "x1d = np.array([1, -1, 1, -1, 1, -1, -1, 1])\n",
    "x2d = np.array([1, 1, -1, -1, -1, 1, -1, -1])\n",
    "x3d = np.array([1, 1, 1, -1, 1, 1, -1, 1])\n",
    "patterns_mod = np.c_[x1d, x2d, x3d].T"
   ]
  },
  {
   "cell_type": "code",
   "execution_count": 74,
   "metadata": {},
   "outputs": [],
   "source": [
    "def update_til_converge(pattern, weights, return_iterations=False):\n",
    "    updated = pattern\n",
    "    prev = np.zeros(pattern.shape)\n",
    "    iterations = 0\n",
    "    while not (updated == prev).all():\n",
    "        prev = updated\n",
    "        updated = update_rule(prev, weights)\n",
    "        iterations += 1\n",
    "\n",
    "    if return_iterations:\n",
    "        return updated, iterations\n",
    "    \n",
    "    return updated"
   ]
  },
  {
   "cell_type": "code",
   "execution_count": 75,
   "metadata": {},
   "outputs": [],
   "source": [
    "updated = update_til_converge(patterns_mod, weights)"
   ]
  },
  {
   "cell_type": "code",
   "execution_count": 76,
   "metadata": {},
   "outputs": [
    {
     "data": {
      "text/plain": [
       "array([[ True,  True,  True,  True,  True,  True,  True,  True],\n",
       "       [ True, False,  True,  True,  True,  True,  True,  True],\n",
       "       [ True,  True,  True,  True,  True,  True,  True,  True]])"
      ]
     },
     "execution_count": 76,
     "metadata": {},
     "output_type": "execute_result"
    }
   ],
   "source": [
    "updated == pattern"
   ]
  },
  {
   "cell_type": "markdown",
   "metadata": {},
   "source": [
    "x2d does not converge to the stored pattern, the other two do however."
   ]
  },
  {
   "cell_type": "code",
   "execution_count": 77,
   "metadata": {},
   "outputs": [],
   "source": [
    "def examine_states(weights):\n",
    "    N = weights.shape[0]\n",
    "    attractors = []\n",
    "    for val in range(2**N):\n",
    "        bin_val = format(val, '0{}b'.format(N))\n",
    "        bin_list = np.array([int(b) for b in bin_val])\n",
    "        input_val = np.where(bin_list == 1, 1, -1)\n",
    "        attractors.append(update_til_converge(input_val, weights))\n",
    "    return attractors"
   ]
  },
  {
   "cell_type": "code",
   "execution_count": 78,
   "metadata": {},
   "outputs": [],
   "source": [
    "attractors = examine_states(weights)\n",
    "attractors = [tuple(attractor) for attractor in attractors]"
   ]
  },
  {
   "cell_type": "code",
   "execution_count": 79,
   "metadata": {},
   "outputs": [
    {
     "name": "stdout",
     "output_type": "stream",
     "text": [
      "x2: 20\n",
      "(-1, -1, 1, -1, -1, 1, -1, 1) 7\n",
      "(-1, -1, 1, -1, 1, 1, -1, 1) 15\n",
      "(-1, -1, -1, -1, 1, -1, -1, -1) 1\n",
      "x1: 20\n",
      "(1, -1, -1, 1, 1, -1, 1, -1) 32\n",
      "(1, 1, -1, 1, -1, 1, 1, -1) 36\n",
      "(1, 1, 1, 1, 1, -1, 1, 1) 57\n",
      "x3: 42\n",
      "(-1, 1, -1, -1, -1, 1, -1, -1) 4\n",
      "(1, 1, -1, 1, 1, -1, 1, -1) 12\n",
      "(-1, 1, 1, -1, 1, -1, -1, 1) 4\n",
      "(1, 1, 1, 1, -1, 1, 1, 1) 4\n",
      "(1, 1, -1, 1, 1, 1, 1, -1) 2\n"
     ]
    }
   ],
   "source": [
    "from collections import Counter\n",
    "import operator\n",
    "\n",
    "counts = dict(Counter(attractors))\n",
    "# counts = sorted(counts.items(), key=operator.itemgetter(1))\n",
    "# print(counts, len(counts))\n",
    "for key, count in counts.items():\n",
    "    if (np.array(key) == x1).all():\n",
    "        print(\"x1: {}\".format(count))\n",
    "    elif (np.array(key) == x2).all():\n",
    "        print(\"x2: {}\".format(count))\n",
    "    elif (np.array(key) == x3).all():\n",
    "        print(\"x3: {}\".format(count))\n",
    "    else:\n",
    "        print(key, count)"
   ]
  },
  {
   "cell_type": "code",
   "execution_count": 80,
   "metadata": {},
   "outputs": [],
   "source": [
    "def examine_distant_states(weights):\n",
    "    N = weights.shape[0]\n",
    "    convergence_times = {}\n",
    "    for val in range(2**N):\n",
    "        bin_val = format(val, '0{}b'.format(N))\n",
    "        bin_list = np.array([int(b) for b in bin_val])\n",
    "        input_val = np.where(bin_list == 1, 1, -1)\n",
    "        val, iterations = update_til_converge(input_val, weights, return_iterations=True)\n",
    "        convergence_times[bin_val] = iterations\n",
    "    return convergence_times"
   ]
  },
  {
   "cell_type": "code",
   "execution_count": 81,
   "metadata": {},
   "outputs": [],
   "source": [
    "def get_min_dist(bin_val, baselines):\n",
    "    bin_list = np.array([int(b) for b in bin_val])\n",
    "    pattern = np.where(bin_list == 1, 1, -1)\n",
    "    min_dist = pattern.shape[0]\n",
    "    \n",
    "    for baseline in baselines:\n",
    "        min_dist = min(min_dist, list(pattern == baseline).count(False))\n",
    "    return min_dist"
   ]
  },
  {
   "cell_type": "code",
   "execution_count": 83,
   "metadata": {},
   "outputs": [
    {
     "ename": "SyntaxError",
     "evalue": "unexpected EOF while parsing (<ipython-input-83-9228717cc90c>, line 5)",
     "output_type": "error",
     "traceback": [
      "\u001b[0;36m  File \u001b[0;32m\"<ipython-input-83-9228717cc90c>\"\u001b[0;36m, line \u001b[0;32m5\u001b[0m\n\u001b[0;31m    #         print(min_dist, iterations)\u001b[0m\n\u001b[0m                                         ^\u001b[0m\n\u001b[0;31mSyntaxError\u001b[0m\u001b[0;31m:\u001b[0m unexpected EOF while parsing\n"
     ]
    }
   ],
   "source": [
    "convergence_times = examine_distant_states(weights)\n",
    "for val, iterations in convergence_times.items():\n",
    "    min_dist = get_min_dist(val, [x1, x2, x3])\n",
    "    if min_dist >= x1.shape[0]/2:\n",
    "        print(min_dist, iterations)"
   ]
  },
  {
   "cell_type": "code",
   "execution_count": 136,
   "metadata": {},
   "outputs": [],
   "source": [
    "def get_pict_data():\n",
    "    filename = \"pict.dat\"\n",
    "    pictsdata = []\n",
    "    with open(filename) as f:\n",
    "        pictsdata = [int(p_val) for p_val in f.read().split(',')]\n",
    "    return pictsdata"
   ]
  },
  {
   "cell_type": "code",
   "execution_count": 137,
   "metadata": {},
   "outputs": [],
   "source": [
    "PICT_DIM = 1024\n",
    "NO_PICTS = 9\n",
    "picts_raw = get_pict_data()\n",
    "picts = []\n",
    "for ndx in range(NO_PICTS):\n",
    "    picts.append(picts_raw[PICT_DIM*ndx : PICT_DIM*(ndx+1)])"
   ]
  },
  {
   "cell_type": "code",
   "execution_count": 158,
   "metadata": {},
   "outputs": [
    {
     "data": {
      "image/png": "[encoded data removed]",
      "text/plain": [
       "<Figure size 432x288 with 9 Axes>"
      ]
     },
     "metadata": {
      "needs_background": "light"
     },
     "output_type": "display_data"
    }
   ],
   "source": [
    "\n",
    "fig = plt.figure()\n",
    "for ndx, pict in enumerate(picts):\n",
    "    fig.add_subplot(3, 3, ndx+1)\n",
    "    imagedata = np.where(np.array(pict) == 1, 1, 0).reshape(32,32)\n",
    "    plt.imshow(imagedata)"
   ]
  },
  {
   "cell_type": "code",
   "execution_count": null,
   "metadata": {},
   "outputs": [],
   "source": []
  }
 ],
 "metadata": {
  "kernelspec": {
   "display_name": "Python 3",
   "language": "python",
   "name": "python3"
  },
  "language_info": {
   "codemirror_mode": {
    "name": "ipython",
    "version": 3
   },
   "file_extension": ".py",
   "mimetype": "text/x-python",
   "name": "python",
   "nbconvert_exporter": "python",
   "pygments_lexer": "ipython3",
   "version": "3.6.2"
  }
 },
 "nbformat": 4,
 "nbformat_minor": 2
}
