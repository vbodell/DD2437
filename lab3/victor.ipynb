{
 "cells": [
  {
   "cell_type": "markdown",
   "metadata": {},
   "source": [
    "# DD2437 Lab 3, Hopfield networks"
   ]
  },
  {
   "cell_type": "code",
   "execution_count": 1,
   "metadata": {},
   "outputs": [],
   "source": [
    "import numpy as np\n",
    "import matplotlib.pyplot as plt"
   ]
  },
  {
   "cell_type": "code",
   "execution_count": 2,
   "metadata": {},
   "outputs": [],
   "source": [
    "# Data\n",
    "x1 = np.array([-1, -1, 1, -1, 1, -1, -1, 1])\n",
    "x2 = np.array([-1, -1, -1, -1, -1, 1, -1, -1])\n",
    "x3 = np.array([-1, 1, 1, -1, -1, 1, -1, 1])"
   ]
  },
  {
   "cell_type": "code",
   "execution_count": 3,
   "metadata": {},
   "outputs": [],
   "source": [
    "def sign(x):\n",
    "    return np.where(x < 0, -1, 1)"
   ]
  },
  {
   "cell_type": "code",
   "execution_count": 4,
   "metadata": {},
   "outputs": [],
   "source": [
    "def calc_weights(pattern, normalize=False):\n",
    "    if normalize:\n",
    "        return pattern.T.dot(pattern)/pattern.shape[1]\n",
    "    return pattern.T.dot(pattern)"
   ]
  },
  {
   "cell_type": "code",
   "execution_count": 85,
   "metadata": {},
   "outputs": [],
   "source": [
    "def update_rule(pattern, weights):\n",
    "    return sign(np.dot(pattern, weights))"
   ]
  },
  {
   "cell_type": "code",
   "execution_count": 6,
   "metadata": {},
   "outputs": [
    {
     "data": {
      "text/plain": [
       "True"
      ]
     },
     "execution_count": 6,
     "metadata": {},
     "output_type": "execute_result"
    }
   ],
   "source": [
    "pattern = np.c_[x1, x2, x3].T\n",
    "weights = calc_weights(pattern)\n",
    "(update_rule(pattern, weights) == pattern).all()"
   ]
  },
  {
   "cell_type": "markdown",
   "metadata": {},
   "source": [
    "Make sure that the above says true, this means we've initialized the hopfield network to maintain our x-input as fixed points. Not modifying them in the update step."
   ]
  },
  {
   "cell_type": "markdown",
   "metadata": {},
   "source": [
    "## 3.1 Convergence and attractors"
   ]
  },
  {
   "cell_type": "code",
   "execution_count": 7,
   "metadata": {},
   "outputs": [],
   "source": [
    "x1d = np.array([1, -1, 1, -1, 1, -1, -1, 1])\n",
    "x2d = np.array([1, 1, -1, -1, -1, 1, -1, -1])\n",
    "x3d = np.array([1, 1, 1, -1, 1, 1, -1, 1])\n",
    "patterns_mod = np.c_[x1d, x2d, x3d].T"
   ]
  },
  {
   "cell_type": "code",
   "execution_count": 8,
   "metadata": {},
   "outputs": [],
   "source": [
    "def update_til_converge(pattern, weights, return_iterations=False):\n",
    "    updated = pattern\n",
    "    prev = np.zeros(pattern.shape)\n",
    "    iterations = 0\n",
    "    while not (updated == prev).all():\n",
    "        prev = updated\n",
    "        updated = update_rule(prev, weights)\n",
    "        iterations += 1\n",
    "\n",
    "    if return_iterations:\n",
    "        return updated, iterations\n",
    "    \n",
    "    return updated"
   ]
  },
  {
   "cell_type": "code",
   "execution_count": 9,
   "metadata": {},
   "outputs": [],
   "source": [
    "updated = update_til_converge(patterns_mod, weights)"
   ]
  },
  {
   "cell_type": "code",
   "execution_count": 10,
   "metadata": {},
   "outputs": [
    {
     "data": {
      "text/plain": [
       "array([[ True,  True,  True,  True,  True,  True,  True,  True],\n",
       "       [ True, False,  True,  True,  True,  True,  True,  True],\n",
       "       [ True,  True,  True,  True,  True,  True,  True,  True]])"
      ]
     },
     "execution_count": 10,
     "metadata": {},
     "output_type": "execute_result"
    }
   ],
   "source": [
    "updated == pattern"
   ]
  },
  {
   "cell_type": "markdown",
   "metadata": {},
   "source": [
    "x2d does not converge to the stored pattern, the other two do however."
   ]
  },
  {
   "cell_type": "code",
   "execution_count": 11,
   "metadata": {},
   "outputs": [],
   "source": [
    "def examine_states(weights):\n",
    "    N = weights.shape[0]\n",
    "    attractors = []\n",
    "    for val in range(2**N):\n",
    "        bin_val = format(val, '0{}b'.format(N))\n",
    "        bin_list = np.array([int(b) for b in bin_val])\n",
    "        input_val = np.where(bin_list == 1, 1, -1)\n",
    "        attractors.append(update_til_converge(input_val, weights))\n",
    "    return attractors"
   ]
  },
  {
   "cell_type": "code",
   "execution_count": 12,
   "metadata": {},
   "outputs": [],
   "source": [
    "attractors = examine_states(weights)\n",
    "attractors = [tuple(attractor) for attractor in attractors]"
   ]
  },
  {
   "cell_type": "code",
   "execution_count": 13,
   "metadata": {},
   "outputs": [
    {
     "name": "stdout",
     "output_type": "stream",
     "text": [
      "x2: 20\n",
      "(-1, -1, 1, -1, -1, 1, -1, 1) 7\n",
      "(-1, -1, 1, -1, 1, 1, -1, 1) 15\n",
      "(-1, -1, -1, -1, 1, -1, -1, -1) 1\n",
      "x1: 20\n",
      "(1, -1, -1, 1, 1, -1, 1, -1) 32\n",
      "(1, 1, -1, 1, -1, 1, 1, -1) 36\n",
      "(1, 1, 1, 1, 1, -1, 1, 1) 57\n",
      "x3: 42\n",
      "(-1, 1, -1, -1, -1, 1, -1, -1) 4\n",
      "(1, 1, -1, 1, 1, -1, 1, -1) 12\n",
      "(-1, 1, 1, -1, 1, -1, -1, 1) 4\n",
      "(1, 1, 1, 1, -1, 1, 1, 1) 4\n",
      "(1, 1, -1, 1, 1, 1, 1, -1) 2\n"
     ]
    }
   ],
   "source": [
    "from collections import Counter\n",
    "import operator\n",
    "\n",
    "counts = dict(Counter(attractors))\n",
    "# counts = sorted(counts.items(), key=operator.itemgetter(1))\n",
    "# print(counts, len(counts))\n",
    "for key, count in counts.items():\n",
    "    if (np.array(key) == x1).all():\n",
    "        print(\"x1: {}\".format(count))\n",
    "    elif (np.array(key) == x2).all():\n",
    "        print(\"x2: {}\".format(count))\n",
    "    elif (np.array(key) == x3).all():\n",
    "        print(\"x3: {}\".format(count))\n",
    "    else:\n",
    "        print(key, count)"
   ]
  },
  {
   "cell_type": "code",
   "execution_count": 14,
   "metadata": {},
   "outputs": [],
   "source": [
    "def examine_distant_states(weights):\n",
    "    N = weights.shape[0]\n",
    "    convergence_times = {}\n",
    "    for val in range(2**N):\n",
    "        bin_val = format(val, '0{}b'.format(N))\n",
    "        bin_list = np.array([int(b) for b in bin_val])\n",
    "        input_val = np.where(bin_list == 1, 1, -1)\n",
    "        val, iterations = update_til_converge(input_val, weights, return_iterations=True)\n",
    "        convergence_times[bin_val] = iterations\n",
    "    return convergence_times"
   ]
  },
  {
   "cell_type": "code",
   "execution_count": 15,
   "metadata": {},
   "outputs": [],
   "source": [
    "def get_min_dist(bin_val, baselines):\n",
    "    bin_list = np.array([int(b) for b in bin_val])\n",
    "    pattern = np.where(bin_list == 1, 1, -1)\n",
    "    min_dist = pattern.shape[0]\n",
    "    \n",
    "    for baseline in baselines:\n",
    "        min_dist = min(min_dist, list(pattern == baseline).count(False))\n",
    "    return min_dist"
   ]
  },
  {
   "cell_type": "code",
   "execution_count": 22,
   "metadata": {},
   "outputs": [],
   "source": [
    "convergence_times = examine_distant_states(weights)\n",
    "for val, iterations in convergence_times.items():\n",
    "    min_dist = get_min_dist(val, [x1, x2, x3])\n",
    "    if min_dist >= x1.shape[0]/2:\n",
    "        pass\n",
    "#         print(min_dist, iterations)"
   ]
  },
  {
   "cell_type": "markdown",
   "metadata": {},
   "source": [
    "1. Did all the patterns converge towards stored patterns?\n",
    "\n",
    "*They converge, but x2d does not converge to x2 (nor x1, x3)*\n",
    "\n",
    "2. How many attractors are there in this network? Hint: automate the searching.\n",
    "\n",
    "*14 in total, see In: 13*\n",
    "\n",
    "3. What happens when you make the starting pattern even more dissimilar to the stored ones (e.g. more than half is wrong)?\n",
    "\n",
    "*The pattern converges to a different attractor.*"
   ]
  },
  {
   "cell_type": "markdown",
   "metadata": {},
   "source": [
    "## 3.2 Sequential Update"
   ]
  },
  {
   "cell_type": "code",
   "execution_count": 17,
   "metadata": {},
   "outputs": [],
   "source": [
    "def get_pict_data():\n",
    "    filename = \"pict.dat\"\n",
    "    pictsdata = []\n",
    "    with open(filename) as f:\n",
    "        pictsdata = [int(p_val) for p_val in f.read().split(',')]\n",
    "    return pictsdata"
   ]
  },
  {
   "cell_type": "code",
   "execution_count": 46,
   "metadata": {},
   "outputs": [],
   "source": [
    "PICT_DIM = 1024\n",
    "picts_raw = get_pict_data()\n",
    "NO_PICTS = int(len(picts_raw)/PICT_DIM)\n",
    "IMG_DIMS = (32, 32)\n",
    "\n",
    "picts = []\n",
    "for ndx in range(NO_PICTS):\n",
    "    picts.append(picts_raw[PICT_DIM*ndx : PICT_DIM*(ndx+1)])"
   ]
  },
  {
   "cell_type": "code",
   "execution_count": 47,
   "metadata": {},
   "outputs": [],
   "source": [
    "def print_image(image, dims):\n",
    "    imagedata = np.where(image == 1, 1, 0).reshape(dims)\n",
    "    plt.imshow(imagedata)"
   ]
  },
  {
   "cell_type": "code",
   "execution_count": 48,
   "metadata": {},
   "outputs": [
    {
     "data": {
      "image/png": "[encoded data removed]",
      "text/plain": [
       "<Figure size 432x288 with 11 Axes>"
      ]
     },
     "metadata": {
      "needs_background": "light"
     },
     "output_type": "display_data"
    }
   ],
   "source": [
    "# Print the data\n",
    "fig = plt.figure()\n",
    "for ndx, pict in enumerate(picts):\n",
    "    fig.add_subplot(4, 3, ndx+1)\n",
    "    print_image(np.array(pict), IMG_DIMS)"
   ]
  },
  {
   "cell_type": "code",
   "execution_count": 73,
   "metadata": {},
   "outputs": [],
   "source": [
    "p1 = np.array(picts[0])\n",
    "p2 = np.array(picts[1])\n",
    "p3 = np.array(picts[2])\n",
    "p4 = np.array(picts[3])\n",
    "p5 = np.array(picts[4])\n",
    "p6 = np.array(picts[5])\n",
    "p7 = np.array(picts[6])\n",
    "p8 = np.array(picts[7])\n",
    "p9 = np.array(picts[8])\n",
    "p10 = np.array(picts[9])\n",
    "p11 = np.array(picts[10])\n",
    "\n",
    "pattern = np.c_[p1, p2, p3].T\n",
    "weights = calc_weights(pattern)"
   ]
  },
  {
   "cell_type": "markdown",
   "metadata": {},
   "source": [
    "**Check that the three patterns are stable:**"
   ]
  },
  {
   "cell_type": "code",
   "execution_count": 74,
   "metadata": {},
   "outputs": [
    {
     "name": "stdout",
     "output_type": "stream",
     "text": [
      "Network converged to pattern=True after 1 iteration(s)\n"
     ]
    }
   ],
   "source": [
    "updated, iterations = update_til_converge(\n",
    "    pattern, weights, return_iterations=True)\n",
    "\n",
    "print(\"Network converged to pattern={} after {} iteration(s)\".format(\n",
    "    (updated == pattern).all(), iterations))"
   ]
  },
  {
   "cell_type": "markdown",
   "metadata": {},
   "source": [
    "**Can the network complete a degraded pattern?**"
   ]
  },
  {
   "cell_type": "code",
   "execution_count": 75,
   "metadata": {},
   "outputs": [
    {
     "name": "stdout",
     "output_type": "stream",
     "text": [
      "p10 converged to p1=True after 2 iteration(s)\n"
     ]
    },
    {
     "data": {
      "image/png": "[encoded data removed]",
      "text/plain": [
       "<Figure size 432x288 with 1 Axes>"
      ]
     },
     "metadata": {
      "needs_background": "light"
     },
     "output_type": "display_data"
    }
   ],
   "source": [
    "updated, iterations = update_til_converge(p10, weights, True)\n",
    "print(\"p10 converged to p1={} after {} iteration(s)\".format(\n",
    "    (updated == p1).all(), iterations))\n",
    "\n",
    "print_image(updated, IMG_DIMS)"
   ]
  },
  {
   "cell_type": "code",
   "execution_count": 76,
   "metadata": {},
   "outputs": [
    {
     "name": "stdout",
     "output_type": "stream",
     "text": [
      "p11 converged=False after 3 iteration(s)\n"
     ]
    },
    {
     "data": {
      "image/png": "[encoded data removed]",
      "text/plain": [
       "<Figure size 432x288 with 1 Axes>"
      ]
     },
     "metadata": {
      "needs_background": "light"
     },
     "output_type": "display_data"
    }
   ],
   "source": [
    "updated, iterations = update_til_converge(p11, weights, True)\n",
    "print(\"p11 converged={} after {} iteration(s)\".format(\n",
    "    (updated == p2).all(), iterations))\n",
    "\n",
    "print_image(updated, IMG_DIMS)"
   ]
  },
  {
   "cell_type": "markdown",
   "metadata": {},
   "source": [
    "**Clearly convergence is practically instantaneous. What happens if we select units randomly?**"
   ]
  },
  {
   "cell_type": "code",
   "execution_count": 86,
   "metadata": {},
   "outputs": [],
   "source": [
    "from random import randrange\n",
    "\n",
    "def random_update_til_converge(pattern, weights, \n",
    "                               return_iterations=False,\n",
    "                               print_image=None):\n",
    "    updated = pattern\n",
    "    prev = np.zeros(pattern.shape)\n",
    "    iterations = 0\n",
    "    fig = plt.figure()\n",
    "    for ndx in range(print_image*3):\n",
    "        prev = updated\n",
    "        \n",
    "        random_i = randrange(weights.shape[0])\n",
    "        updated[random_i] = update_rule(prev, weights[random_i,:])\n",
    "        \n",
    "        iterations += 1\n",
    "        \n",
    "        if ndx % print_image == 0:\n",
    "            fig.add_subplot(3, 1, int(ndx/print_image)+1)\n",
    "            print_image(updated, IMG_DIMS)\n",
    "\n",
    "    if return_iterations:\n",
    "        return updated, iterations\n",
    "    \n",
    "    return updated"
   ]
  },
  {
   "cell_type": "code",
   "execution_count": 87,
   "metadata": {},
   "outputs": [
    {
     "ename": "TypeError",
     "evalue": "'int' object is not callable",
     "output_type": "error",
     "traceback": [
      "\u001b[0;31m---------------------------------------------------------------------------\u001b[0m",
      "\u001b[0;31mTypeError\u001b[0m                                 Traceback (most recent call last)",
      "\u001b[0;32m<ipython-input-87-17261f8f9131>\u001b[0m in \u001b[0;36m<module>\u001b[0;34m\u001b[0m\n\u001b[0;32m----> 1\u001b[0;31m \u001b[0mrandom_update_til_converge\u001b[0m\u001b[0;34m(\u001b[0m\u001b[0mp10\u001b[0m\u001b[0;34m,\u001b[0m \u001b[0mweights\u001b[0m\u001b[0;34m,\u001b[0m \u001b[0;32mFalse\u001b[0m\u001b[0;34m,\u001b[0m \u001b[0;36m100\u001b[0m\u001b[0;34m)\u001b[0m\u001b[0;34m\u001b[0m\u001b[0m\n\u001b[0m",
      "\u001b[0;32m<ipython-input-86-19c46892d5ec>\u001b[0m in \u001b[0;36mrandom_update_til_converge\u001b[0;34m(pattern, weights, return_iterations, print_image)\u001b[0m\n\u001b[1;32m     18\u001b[0m         \u001b[0;32mif\u001b[0m \u001b[0mndx\u001b[0m \u001b[0;34m%\u001b[0m \u001b[0mprint_image\u001b[0m \u001b[0;34m==\u001b[0m \u001b[0;36m0\u001b[0m\u001b[0;34m:\u001b[0m\u001b[0;34m\u001b[0m\u001b[0m\n\u001b[1;32m     19\u001b[0m             \u001b[0mfig\u001b[0m\u001b[0;34m.\u001b[0m\u001b[0madd_subplot\u001b[0m\u001b[0;34m(\u001b[0m\u001b[0;36m3\u001b[0m\u001b[0;34m,\u001b[0m \u001b[0;36m1\u001b[0m\u001b[0;34m,\u001b[0m \u001b[0mint\u001b[0m\u001b[0;34m(\u001b[0m\u001b[0mndx\u001b[0m\u001b[0;34m/\u001b[0m\u001b[0mprint_image\u001b[0m\u001b[0;34m)\u001b[0m\u001b[0;34m+\u001b[0m\u001b[0;36m1\u001b[0m\u001b[0;34m)\u001b[0m\u001b[0;34m\u001b[0m\u001b[0m\n\u001b[0;32m---> 20\u001b[0;31m             \u001b[0mprint_image\u001b[0m\u001b[0;34m(\u001b[0m\u001b[0mupdated\u001b[0m\u001b[0;34m,\u001b[0m \u001b[0mIMG_DIMS\u001b[0m\u001b[0;34m)\u001b[0m\u001b[0;34m\u001b[0m\u001b[0m\n\u001b[0m\u001b[1;32m     21\u001b[0m \u001b[0;34m\u001b[0m\u001b[0m\n\u001b[1;32m     22\u001b[0m     \u001b[0;32mif\u001b[0m \u001b[0mreturn_iterations\u001b[0m\u001b[0;34m:\u001b[0m\u001b[0;34m\u001b[0m\u001b[0m\n",
      "\u001b[0;31mTypeError\u001b[0m: 'int' object is not callable"
     ]
    },
    {
     "data": {
      "image/png": "[encoded data removed]",
      "text/plain": [
       "<Figure size 432x288 with 1 Axes>"
      ]
     },
     "metadata": {
      "needs_background": "light"
     },
     "output_type": "display_data"
    }
   ],
   "source": [
    "random_update_til_converge(p10, weights, False, 100)"
   ]
  },
  {
   "cell_type": "code",
   "execution_count": 83,
   "metadata": {},
   "outputs": [
    {
     "data": {
      "text/plain": [
       "array([1, 2, 3, 4, 5])"
      ]
     },
     "execution_count": 83,
     "metadata": {},
     "output_type": "execute_result"
    }
   ],
   "source": []
  },
  {
   "cell_type": "code",
   "execution_count": null,
   "metadata": {},
   "outputs": [],
   "source": []
  }
 ],
 "metadata": {
  "kernelspec": {
   "display_name": "Python 3",
   "language": "python",
   "name": "python3"
  },
  "language_info": {
   "codemirror_mode": {
    "name": "ipython",
    "version": 3
   },
   "file_extension": ".py",
   "mimetype": "text/x-python",
   "name": "python",
   "nbconvert_exporter": "python",
   "pygments_lexer": "ipython3",
   "version": "3.6.2"
  }
 },
 "nbformat": 4,
 "nbformat_minor": 2
}
