{
 "cells": [
  {
   "cell_type": "markdown",
   "metadata": {},
   "source": [
    "# DD2437 Lab 3, Hopfield networks"
   ]
  },
  {
   "cell_type": "code",
   "execution_count": 1,
   "metadata": {},
   "outputs": [],
   "source": [
    "import numpy as np\n",
    "import matplotlib.pyplot as plt"
   ]
  },
  {
   "cell_type": "code",
   "execution_count": 2,
   "metadata": {},
   "outputs": [],
   "source": [
    "# Data\n",
    "x1 = np.array([-1, -1, 1, -1, 1, -1, -1, 1])\n",
    "x2 = np.array([-1, -1, -1, -1, -1, 1, -1, -1])\n",
    "x3 = np.array([-1, 1, 1, -1, -1, 1, -1, 1])"
   ]
  },
  {
   "cell_type": "code",
   "execution_count": 3,
   "metadata": {},
   "outputs": [],
   "source": [
    "def sign(x):\n",
    "    return np.where(x < 0, -1, 1)"
   ]
  },
  {
   "cell_type": "code",
   "execution_count": 4,
   "metadata": {},
   "outputs": [],
   "source": [
    "def calc_weights(pattern, normalize=False):\n",
    "    if normalize:\n",
    "        return pattern.T.dot(pattern)/pattern.shape[1]\n",
    "    return pattern.T.dot(pattern)"
   ]
  },
  {
   "cell_type": "code",
   "execution_count": 5,
   "metadata": {},
   "outputs": [],
   "source": [
    "def update_rule(pattern, weights):\n",
    "    return sign(np.dot(pattern, weights))"
   ]
  },
  {
   "cell_type": "code",
   "execution_count": 6,
   "metadata": {},
   "outputs": [
    {
     "data": {
      "text/plain": [
       "True"
      ]
     },
     "execution_count": 6,
     "metadata": {},
     "output_type": "execute_result"
    }
   ],
   "source": [
    "pattern = np.c_[x1, x2, x3].T\n",
    "weights = calc_weights(pattern)\n",
    "(update_rule(pattern, weights) == pattern).all()"
   ]
  },
  {
   "cell_type": "markdown",
   "metadata": {},
   "source": [
    "Make sure that the above says true, this means we've initialized the hopfield network to maintain our x-input as fixed points. Not modifying them in the update step."
   ]
  },
  {
   "cell_type": "markdown",
   "metadata": {},
   "source": [
    "## 3.1 Convergence and attractors"
   ]
  },
  {
   "cell_type": "code",
   "execution_count": 7,
   "metadata": {},
   "outputs": [],
   "source": [
    "x1d = np.array([1, -1, 1, -1, 1, -1, -1, 1])\n",
    "x2d = np.array([1, 1, -1, -1, -1, 1, -1, -1])\n",
    "x3d = np.array([1, 1, 1, -1, 1, 1, -1, 1])\n",
    "patterns_mod = np.c_[x1d, x2d, x3d].T"
   ]
  },
  {
   "cell_type": "code",
   "execution_count": 8,
   "metadata": {},
   "outputs": [],
   "source": [
    "def update_til_converge(pattern, weights, \n",
    "                        return_iterations=False):\n",
    "    updated = pattern\n",
    "    prev = np.zeros(pattern.shape)\n",
    "    iterations = 0\n",
    "    while not (updated == prev).all():\n",
    "        prev = updated\n",
    "        updated = update_rule(prev, weights)\n",
    "        iterations += 1\n",
    "\n",
    "    if return_iterations:\n",
    "        return updated, iterations\n",
    "    \n",
    "    return updated"
   ]
  },
  {
   "cell_type": "code",
   "execution_count": 9,
   "metadata": {},
   "outputs": [],
   "source": [
    "updated = update_til_converge(patterns_mod, weights)"
   ]
  },
  {
   "cell_type": "code",
   "execution_count": 10,
   "metadata": {},
   "outputs": [
    {
     "data": {
      "text/plain": [
       "array([[ True,  True,  True,  True,  True,  True,  True,  True],\n",
       "       [ True, False,  True,  True,  True,  True,  True,  True],\n",
       "       [ True,  True,  True,  True,  True,  True,  True,  True]])"
      ]
     },
     "execution_count": 10,
     "metadata": {},
     "output_type": "execute_result"
    }
   ],
   "source": [
    "updated == pattern"
   ]
  },
  {
   "cell_type": "markdown",
   "metadata": {},
   "source": [
    "x2d does not converge to the stored pattern, the other two do however."
   ]
  },
  {
   "cell_type": "code",
   "execution_count": 11,
   "metadata": {},
   "outputs": [],
   "source": [
    "def examine_states(weights):\n",
    "    N = weights.shape[0]\n",
    "    attractors = []\n",
    "    for val in range(2**N):\n",
    "        bin_val = format(val, '0{}b'.format(N))\n",
    "        bin_list = np.array([int(b) for b in bin_val])\n",
    "        input_val = np.where(bin_list == 1, 1, -1)\n",
    "        attractors.append(update_til_converge(input_val, weights))\n",
    "    return attractors"
   ]
  },
  {
   "cell_type": "code",
   "execution_count": 12,
   "metadata": {},
   "outputs": [],
   "source": [
    "attractors = examine_states(weights)\n",
    "attractors = [tuple(attractor) for attractor in attractors]"
   ]
  },
  {
   "cell_type": "code",
   "execution_count": 13,
   "metadata": {},
   "outputs": [
    {
     "name": "stdout",
     "output_type": "stream",
     "text": [
      "x2: 20\n",
      "(-1, -1, 1, -1, -1, 1, -1, 1) 7\n",
      "(-1, -1, 1, -1, 1, 1, -1, 1) 15\n",
      "(-1, -1, -1, -1, 1, -1, -1, -1) 1\n",
      "x1: 20\n",
      "(1, -1, -1, 1, 1, -1, 1, -1) 32\n",
      "(1, 1, -1, 1, -1, 1, 1, -1) 36\n",
      "(1, 1, 1, 1, 1, -1, 1, 1) 57\n",
      "x3: 42\n",
      "(-1, 1, -1, -1, -1, 1, -1, -1) 4\n",
      "(1, 1, -1, 1, 1, -1, 1, -1) 12\n",
      "(-1, 1, 1, -1, 1, -1, -1, 1) 4\n",
      "(1, 1, 1, 1, -1, 1, 1, 1) 4\n",
      "(1, 1, -1, 1, 1, 1, 1, -1) 2\n"
     ]
    }
   ],
   "source": [
    "from collections import Counter\n",
    "import operator\n",
    "\n",
    "counts = dict(Counter(attractors))\n",
    "# counts = sorted(counts.items(), key=operator.itemgetter(1))\n",
    "# print(counts, len(counts))\n",
    "for key, count in counts.items():\n",
    "    if (np.array(key) == x1).all():\n",
    "        print(\"x1: {}\".format(count))\n",
    "    elif (np.array(key) == x2).all():\n",
    "        print(\"x2: {}\".format(count))\n",
    "    elif (np.array(key) == x3).all():\n",
    "        print(\"x3: {}\".format(count))\n",
    "    else:\n",
    "        print(key, count)"
   ]
  },
  {
   "cell_type": "code",
   "execution_count": 14,
   "metadata": {},
   "outputs": [],
   "source": [
    "def examine_distant_states(weights):\n",
    "    N = weights.shape[0]\n",
    "    convergence_times = {}\n",
    "    for val in range(2**N):\n",
    "        bin_val = format(val, '0{}b'.format(N))\n",
    "        bin_list = np.array([int(b) for b in bin_val])\n",
    "        input_val = np.where(bin_list == 1, 1, -1)\n",
    "        val, iterations = update_til_converge(input_val, weights, return_iterations=True)\n",
    "        convergence_times[bin_val] = iterations\n",
    "    return convergence_times"
   ]
  },
  {
   "cell_type": "code",
   "execution_count": 15,
   "metadata": {},
   "outputs": [],
   "source": [
    "def get_min_dist(bin_val, baselines):\n",
    "    bin_list = np.array([int(b) for b in bin_val])\n",
    "    pattern = np.where(bin_list == 1, 1, -1)\n",
    "    min_dist = pattern.shape[0]\n",
    "    \n",
    "    for baseline in baselines:\n",
    "        min_dist = min(min_dist, list(pattern == baseline).count(False))\n",
    "    return min_dist"
   ]
  },
  {
   "cell_type": "code",
   "execution_count": 16,
   "metadata": {},
   "outputs": [],
   "source": [
    "convergence_times = examine_distant_states(weights)\n",
    "for val, iterations in convergence_times.items():\n",
    "    min_dist = get_min_dist(val, [x1, x2, x3])\n",
    "    if min_dist >= x1.shape[0]/2:\n",
    "        pass\n",
    "#         print(min_dist, iterations)"
   ]
  },
  {
   "cell_type": "markdown",
   "metadata": {},
   "source": [
    "1. Did all the patterns converge towards stored patterns?\n",
    "\n",
    "*They converge, but x2d does not converge to x2 (nor x1, x3)*\n",
    "\n",
    "2. How many attractors are there in this network? Hint: automate the searching.\n",
    "\n",
    "*14 in total, see In: 13*\n",
    "\n",
    "3. What happens when you make the starting pattern even more dissimilar to the stored ones (e.g. more than half is wrong)?\n",
    "\n",
    "*The pattern converges to a different attractor.*"
   ]
  },
  {
   "cell_type": "markdown",
   "metadata": {},
   "source": [
    "## 3.2 Sequential Update"
   ]
  },
  {
   "cell_type": "code",
   "execution_count": 17,
   "metadata": {},
   "outputs": [],
   "source": [
    "def get_pict_data():\n",
    "    filename = \"pict.dat\"\n",
    "    pictsdata = []\n",
    "    with open(filename) as f:\n",
    "        pictsdata = [int(p_val) for p_val in f.read().split(',')]\n",
    "    return pictsdata"
   ]
  },
  {
   "cell_type": "code",
   "execution_count": 18,
   "metadata": {},
   "outputs": [],
   "source": [
    "PICT_DIM = 1024\n",
    "picts_raw = get_pict_data()\n",
    "NO_PICTS = int(len(picts_raw)/PICT_DIM)\n",
    "IMG_DIMS = (32, 32)\n",
    "\n",
    "picts = []\n",
    "for ndx in range(NO_PICTS):\n",
    "    picts.append(picts_raw[PICT_DIM*ndx : PICT_DIM*(ndx+1)])"
   ]
  },
  {
   "cell_type": "code",
   "execution_count": 19,
   "metadata": {},
   "outputs": [],
   "source": [
    "def print_image(image, dims):\n",
    "    imagedata = np.where(image == 1, 1, 0).reshape(dims)\n",
    "    plt.imshow(imagedata)"
   ]
  },
  {
   "cell_type": "code",
   "execution_count": 20,
   "metadata": {},
   "outputs": [
    {
     "data": {
      "image/png": "[encoded data removed]",
      "text/plain": [
       "<Figure size 432x288 with 11 Axes>"
      ]
     },
     "metadata": {
      "needs_background": "light"
     },
     "output_type": "display_data"
    }
   ],
   "source": [
    "# Print the data\n",
    "fig = plt.figure()\n",
    "for ndx, pict in enumerate(picts):\n",
    "    fig.add_subplot(4, 3, ndx+1)\n",
    "    print_image(np.array(pict), IMG_DIMS)"
   ]
  },
  {
   "cell_type": "code",
   "execution_count": 112,
   "metadata": {},
   "outputs": [],
   "source": [
    "p1 = np.array(picts[0])\n",
    "p2 = np.array(picts[1])\n",
    "p3 = np.array(picts[2])\n",
    "p4 = np.array(picts[3])\n",
    "p5 = np.array(picts[4])\n",
    "p6 = np.array(picts[5])\n",
    "p7 = np.array(picts[6])\n",
    "p8 = np.array(picts[7])\n",
    "p9 = np.array(picts[8])\n",
    "p10 = np.array(picts[9])\n",
    "p11 = np.array(picts[10])\n",
    "\n",
    "pattern = np.c_[p1, p2, p3].T\n",
    "weights = calc_weights(pattern)"
   ]
  },
  {
   "cell_type": "markdown",
   "metadata": {},
   "source": [
    "**Check that the three patterns are stable:**"
   ]
  },
  {
   "cell_type": "code",
   "execution_count": 22,
   "metadata": {},
   "outputs": [
    {
     "name": "stdout",
     "output_type": "stream",
     "text": [
      "Network converged to pattern=True after 1 iteration(s)\n"
     ]
    }
   ],
   "source": [
    "updated, iterations = update_til_converge(\n",
    "    pattern, weights, return_iterations=True)\n",
    "\n",
    "print(\"Network converged to pattern={} after {} iteration(s)\".format(\n",
    "    (updated == pattern).all(), iterations))"
   ]
  },
  {
   "cell_type": "markdown",
   "metadata": {},
   "source": [
    "**Can the network complete a degraded pattern?**"
   ]
  },
  {
   "cell_type": "code",
   "execution_count": 23,
   "metadata": {},
   "outputs": [
    {
     "name": "stdout",
     "output_type": "stream",
     "text": [
      "p10 converged to p1=True after 2 iteration(s)\n"
     ]
    },
    {
     "data": {
      "image/png": "[encoded data removed]",
      "text/plain": [
       "<Figure size 432x288 with 1 Axes>"
      ]
     },
     "metadata": {
      "needs_background": "light"
     },
     "output_type": "display_data"
    }
   ],
   "source": [
    "updated, iterations = update_til_converge(p10, weights, True)\n",
    "print(\"p10 converged to p1={} after {} iteration(s)\".format(\n",
    "    (updated == p1).all(), iterations))\n",
    "\n",
    "print_image(updated, IMG_DIMS)"
   ]
  },
  {
   "cell_type": "code",
   "execution_count": 43,
   "metadata": {},
   "outputs": [
    {
     "name": "stdout",
     "output_type": "stream",
     "text": [
      "p11 converged to p2=False after 3 iteration(s)\n"
     ]
    },
    {
     "data": {
      "image/png": "[encoded data removed]",
      "text/plain": [
       "<Figure size 432x288 with 1 Axes>"
      ]
     },
     "metadata": {
      "needs_background": "light"
     },
     "output_type": "display_data"
    }
   ],
   "source": [
    "updated, iterations = update_til_converge(p11, weights, True)\n",
    "print(\"p11 converged to p2={} after {} iteration(s)\".format(\n",
    "    (updated == p2).all(), iterations))\n",
    "\n",
    "print_image(updated, IMG_DIMS)"
   ]
  },
  {
   "cell_type": "markdown",
   "metadata": {},
   "source": [
    "**Clearly convergence is practically instantaneous. What happens if we select units randomly?**"
   ]
  },
  {
   "cell_type": "code",
   "execution_count": 46,
   "metadata": {},
   "outputs": [],
   "source": [
    "from random import randrange\n",
    "\n",
    "def random_update_til_converge(pattern, weights, \n",
    "                               return_iterations=False,\n",
    "                               print_image_interval=None):\n",
    "    #print((pattern == p10).all())\n",
    "    mul = 30\n",
    "#     updated = np.ones(pattern.shape)\n",
    "    updated = np.array(pattern)\n",
    "    prev = np.zeros(pattern.shape)\n",
    "    iterations = 0\n",
    "    fig = plt.figure()\n",
    "    for ndx in range(print_image_interval*mul):\n",
    "#     while not (p3 == updated).all():\n",
    "        prev = updated\n",
    "        \n",
    "        random_i = randrange(weights.shape[0])\n",
    "        updated[random_i] = update_rule(prev, weights[random_i,:])\n",
    "        \n",
    "        iterations += 1\n",
    "        \n",
    "        if ndx % print_image_interval == 0:\n",
    "            fig.add_subplot(6, 5, int(ndx/print_image_interval)+1)\n",
    "            print_image(updated, IMG_DIMS)\n",
    "\n",
    "    fig.savefig(\"plot.pdf\")\n",
    "    \n",
    "    if return_iterations:\n",
    "        return updated, iterations\n",
    "    \n",
    "    return updated"
   ]
  },
  {
   "cell_type": "code",
   "execution_count": 47,
   "metadata": {},
   "outputs": [
    {
     "data": {
      "image/png": "[encoded data removed]",
      "text/plain": [
       "<Figure size 432x288 with 30 Axes>"
      ]
     },
     "metadata": {
      "needs_background": "light"
     },
     "output_type": "display_data"
    }
   ],
   "source": [
    "updated = random_update_til_converge(p11, weights, False, 100)"
   ]
  },
  {
   "cell_type": "code",
   "execution_count": 36,
   "metadata": {},
   "outputs": [
    {
     "data": {
      "text/plain": [
       "False"
      ]
     },
     "execution_count": 36,
     "metadata": {},
     "output_type": "execute_result"
    }
   ],
   "source": [
    "(updated == p3).all()"
   ]
  },
  {
   "cell_type": "markdown",
   "metadata": {},
   "source": [
    "## 3.3 Energy"
   ]
  },
  {
   "cell_type": "code",
   "execution_count": 48,
   "metadata": {},
   "outputs": [],
   "source": [
    "def state_energy(pattern, weights):\n",
    "    return -np.dot(pattern.T, weights).dot(pattern)"
   ]
  },
  {
   "cell_type": "markdown",
   "metadata": {},
   "source": [
    "- What is the energy at the different attractors?\n",
    "- What is the energy at the points of the distorted patterns?"
   ]
  },
  {
   "cell_type": "code",
   "execution_count": 63,
   "metadata": {},
   "outputs": [
    {
     "name": "stdout",
     "output_type": "stream",
     "text": [
      "Pict: Energy\n",
      "p 1: -1.47e+06\n",
      "p 2: -1.40e+06\n",
      "p 3: -1.50e+06\n",
      "p 4: -7.38e+05\n",
      "p 5: -5.39e+05\n",
      "p 6: -7.00e+05\n",
      "p 7: -7.02e+05\n",
      "p 8: -1.76e+05\n",
      "p 9: -2.74e+05\n",
      "p10: -4.26e+05\n",
      "p11: -1.78e+05\n"
     ]
    }
   ],
   "source": [
    "print(\"Pict: Energy\")\n",
    "for ndx, pict in enumerate(picts):\n",
    "    print(\"p{:2}: {:2.2e}\".format(ndx+1, state_energy(np.array(pict), weights)))"
   ]
  },
  {
   "cell_type": "code",
   "execution_count": 81,
   "metadata": {},
   "outputs": [],
   "source": [
    "def update_til_converge_with_energy(pattern, weights, max_iterations=None):\n",
    "    updated = pattern\n",
    "    prev = np.zeros(pattern.shape)\n",
    "    energies = []\n",
    "    iterations = 0\n",
    "    while not (updated == prev).all():\n",
    "        prev = updated\n",
    "        updated = update_rule(prev, weights)\n",
    "        energies.append(state_energy(prev, weights))\n",
    "        iterations += 1\n",
    "        if iterations == max_iterations:\n",
    "            break\n",
    "    \n",
    "    return updated, energies"
   ]
  },
  {
   "cell_type": "markdown",
   "metadata": {},
   "source": [
    "- Follow how the energy changes from iteration to iteration when you use the sequential update rule to approach an attractor."
   ]
  },
  {
   "cell_type": "code",
   "execution_count": 82,
   "metadata": {},
   "outputs": [
    {
     "ename": "KeyboardInterrupt",
     "evalue": "",
     "output_type": "error",
     "traceback": [
      "\u001b[0;31m---------------------------------------------------------------------------\u001b[0m",
      "\u001b[0;31mKeyboardInterrupt\u001b[0m                         Traceback (most recent call last)",
      "\u001b[0;32m<ipython-input-82-b59a71803e0d>\u001b[0m in \u001b[0;36m<module>\u001b[0;34m\u001b[0m\n\u001b[0;32m----> 1\u001b[0;31m \u001b[0mupdated\u001b[0m\u001b[0;34m,\u001b[0m \u001b[0menergies\u001b[0m \u001b[0;34m=\u001b[0m \u001b[0mupdate_til_converge_with_energy\u001b[0m\u001b[0;34m(\u001b[0m\u001b[0mp11\u001b[0m\u001b[0;34m,\u001b[0m \u001b[0mweights\u001b[0m\u001b[0;34m)\u001b[0m\u001b[0;34m\u001b[0m\u001b[0m\n\u001b[0m\u001b[1;32m      2\u001b[0m \u001b[0mplt\u001b[0m\u001b[0;34m.\u001b[0m\u001b[0mplot\u001b[0m\u001b[0;34m(\u001b[0m\u001b[0mrange\u001b[0m\u001b[0;34m(\u001b[0m\u001b[0;36m1\u001b[0m\u001b[0;34m,\u001b[0m \u001b[0;36m1\u001b[0m\u001b[0;34m+\u001b[0m\u001b[0mlen\u001b[0m\u001b[0;34m(\u001b[0m\u001b[0menergies\u001b[0m\u001b[0;34m)\u001b[0m\u001b[0;34m)\u001b[0m\u001b[0;34m,\u001b[0m \u001b[0menergies\u001b[0m\u001b[0;34m)\u001b[0m\u001b[0;34m\u001b[0m\u001b[0m\n\u001b[1;32m      3\u001b[0m \u001b[0mplt\u001b[0m\u001b[0;34m.\u001b[0m\u001b[0mtitle\u001b[0m\u001b[0;34m(\u001b[0m\u001b[0;34m\"Energy decrease of p11\"\u001b[0m\u001b[0;34m)\u001b[0m\u001b[0;34m\u001b[0m\u001b[0m\n\u001b[1;32m      4\u001b[0m \u001b[0mplt\u001b[0m\u001b[0;34m.\u001b[0m\u001b[0mxlabel\u001b[0m\u001b[0;34m(\u001b[0m\u001b[0;34m\"Iterations\"\u001b[0m\u001b[0;34m)\u001b[0m\u001b[0;34m\u001b[0m\u001b[0m\n\u001b[1;32m      5\u001b[0m \u001b[0mplt\u001b[0m\u001b[0;34m.\u001b[0m\u001b[0mylabel\u001b[0m\u001b[0;34m(\u001b[0m\u001b[0;34m\"Energy\"\u001b[0m\u001b[0;34m)\u001b[0m\u001b[0;34m\u001b[0m\u001b[0m\n",
      "\u001b[0;32m<ipython-input-81-bcfae392cc72>\u001b[0m in \u001b[0;36mupdate_til_converge_with_energy\u001b[0;34m(pattern, weights, max_iterations)\u001b[0m\n\u001b[1;32m      7\u001b[0m         \u001b[0mprev\u001b[0m \u001b[0;34m=\u001b[0m \u001b[0mupdated\u001b[0m\u001b[0;34m\u001b[0m\u001b[0m\n\u001b[1;32m      8\u001b[0m         \u001b[0mupdated\u001b[0m \u001b[0;34m=\u001b[0m \u001b[0mupdate_rule\u001b[0m\u001b[0;34m(\u001b[0m\u001b[0mprev\u001b[0m\u001b[0;34m,\u001b[0m \u001b[0mweights\u001b[0m\u001b[0;34m)\u001b[0m\u001b[0;34m\u001b[0m\u001b[0m\n\u001b[0;32m----> 9\u001b[0;31m         \u001b[0menergies\u001b[0m\u001b[0;34m.\u001b[0m\u001b[0mappend\u001b[0m\u001b[0;34m(\u001b[0m\u001b[0mstate_energy\u001b[0m\u001b[0;34m(\u001b[0m\u001b[0mprev\u001b[0m\u001b[0;34m,\u001b[0m \u001b[0mweights\u001b[0m\u001b[0;34m)\u001b[0m\u001b[0;34m)\u001b[0m\u001b[0;34m\u001b[0m\u001b[0m\n\u001b[0m\u001b[1;32m     10\u001b[0m         \u001b[0miterations\u001b[0m \u001b[0;34m+=\u001b[0m \u001b[0;36m1\u001b[0m\u001b[0;34m\u001b[0m\u001b[0m\n\u001b[1;32m     11\u001b[0m         \u001b[0;32mif\u001b[0m \u001b[0miterations\u001b[0m \u001b[0;34m==\u001b[0m \u001b[0mmax_iterations\u001b[0m\u001b[0;34m:\u001b[0m\u001b[0;34m\u001b[0m\u001b[0m\n",
      "\u001b[0;32m<ipython-input-48-104aa4e00bac>\u001b[0m in \u001b[0;36mstate_energy\u001b[0;34m(pattern, weights)\u001b[0m\n\u001b[1;32m      1\u001b[0m \u001b[0;32mdef\u001b[0m \u001b[0mstate_energy\u001b[0m\u001b[0;34m(\u001b[0m\u001b[0mpattern\u001b[0m\u001b[0;34m,\u001b[0m \u001b[0mweights\u001b[0m\u001b[0;34m)\u001b[0m\u001b[0;34m:\u001b[0m\u001b[0;34m\u001b[0m\u001b[0m\n\u001b[0;32m----> 2\u001b[0;31m     \u001b[0;32mreturn\u001b[0m \u001b[0;34m-\u001b[0m\u001b[0mnp\u001b[0m\u001b[0;34m.\u001b[0m\u001b[0mdot\u001b[0m\u001b[0;34m(\u001b[0m\u001b[0mpattern\u001b[0m\u001b[0;34m.\u001b[0m\u001b[0mT\u001b[0m\u001b[0;34m,\u001b[0m \u001b[0mweights\u001b[0m\u001b[0;34m)\u001b[0m\u001b[0;34m.\u001b[0m\u001b[0mdot\u001b[0m\u001b[0;34m(\u001b[0m\u001b[0mpattern\u001b[0m\u001b[0;34m)\u001b[0m\u001b[0;34m\u001b[0m\u001b[0m\n\u001b[0m",
      "\u001b[0;31mKeyboardInterrupt\u001b[0m: "
     ]
    }
   ],
   "source": [
    "updated, energies = update_til_converge_with_energy(p11, weights)\n",
    "plt.plot(range(1, 1+len(energies)), energies)\n",
    "plt.title(\"Energy decrease of p11\")\n",
    "plt.xlabel(\"Iterations\")\n",
    "plt.ylabel(\"Energy\")"
   ]
  },
  {
   "cell_type": "code",
   "execution_count": 103,
   "metadata": {},
   "outputs": [
    {
     "data": {
      "text/plain": [
       "Text(0, 0.5, 'Energy')"
      ]
     },
     "execution_count": 103,
     "metadata": {},
     "output_type": "execute_result"
    },
    {
     "data": {
      "image/png": "[encoded data removed]",
      "text/plain": [
       "<Figure size 432x288 with 1 Axes>"
      ]
     },
     "metadata": {
      "needs_background": "light"
     },
     "output_type": "display_data"
    }
   ],
   "source": [
    "weights = np.random.normal(0,1, (PICT_DIM, PICT_DIM))\n",
    "pattern = np.random.normal(0,1, PICT_DIM)\n",
    "updated, energies = update_til_converge_with_energy(\n",
    "    pattern, weights, 100)\n",
    "plt.plot(range(1, 1+len(energies)), energies)\n",
    "plt.title(\"Energy plot of random network and input\")\n",
    "plt.xlabel(\"Iterations\")\n",
    "plt.ylabel(\"Energy\")"
   ]
  },
  {
   "cell_type": "markdown",
   "metadata": {},
   "source": [
    "- Make the weight matrix symmetric (e.g. by setting w=0.5*(w+w')). What happens now? Why?\n",
    "\n",
    "*The energy oscillates between two states* WHY?"
   ]
  },
  {
   "cell_type": "code",
   "execution_count": 104,
   "metadata": {},
   "outputs": [],
   "source": [
    "weights = 0.5*(weights+weights.T)"
   ]
  },
  {
   "cell_type": "code",
   "execution_count": 105,
   "metadata": {},
   "outputs": [
    {
     "data": {
      "text/plain": [
       "Text(0, 0.5, 'Energy')"
      ]
     },
     "execution_count": 105,
     "metadata": {},
     "output_type": "execute_result"
    },
    {
     "data": {
      "image/png": "[encoded data removed]",
      "text/plain": [
       "<Figure size 432x288 with 1 Axes>"
      ]
     },
     "metadata": {
      "needs_background": "light"
     },
     "output_type": "display_data"
    }
   ],
   "source": [
    "updated, energies = update_til_converge_with_energy(\n",
    "    pattern, weights, 100)\n",
    "plt.plot(range(1, 1+len(energies)), energies)\n",
    "plt.title(\"Energy plot of random network and input\")\n",
    "plt.xlabel(\"Iterations\")\n",
    "plt.ylabel(\"Energy\")"
   ]
  },
  {
   "cell_type": "code",
   "execution_count": 102,
   "metadata": {},
   "outputs": [
    {
     "data": {
      "text/plain": [
       "True"
      ]
     },
     "execution_count": 102,
     "metadata": {},
     "output_type": "execute_result"
    }
   ],
   "source": [
    "(weights == weights.T).all()"
   ]
  },
  {
   "cell_type": "markdown",
   "metadata": {},
   "source": [
    "## 3.4 Distortion Resistance"
   ]
  },
  {
   "cell_type": "code",
   "execution_count": 113,
   "metadata": {},
   "outputs": [],
   "source": [
    "# Init network\n",
    "picts_raw = get_pict_data()\n",
    "picts = []\n",
    "for ndx in range(NO_PICTS):\n",
    "    picts.append(picts_raw[PICT_DIM*ndx : PICT_DIM*(ndx+1)])\n",
    "\n",
    "p1 = np.array(picts[0])\n",
    "p2 = np.array(picts[1])\n",
    "p3 = np.array(picts[2])\n",
    "p4 = np.array(picts[3])\n",
    "p5 = np.array(picts[4])\n",
    "p6 = np.array(picts[5])\n",
    "p7 = np.array(picts[6])\n",
    "p8 = np.array(picts[7])\n",
    "p9 = np.array(picts[8])\n",
    "p10 = np.array(picts[9])\n",
    "p11 = np.array(picts[10])\n",
    "\n",
    "pattern = np.c_[p1, p2, p3].T\n",
    "weights = calc_weights(pattern)"
   ]
  },
  {
   "cell_type": "code",
   "execution_count": 114,
   "metadata": {},
   "outputs": [],
   "source": [
    "def add_noise(pattern, ratio):\n",
    "    new_pattern = np.array(pattern)\n",
    "    indices = np.random.choice(np.arange(len(pattern)), \n",
    "                               size=int(ratio*len(pattern)),\n",
    "                               replace=False)\n",
    "    new_pattern[indices] = np.where(pattern[indices] == 1, -1, 1)\n",
    "    return new_pattern"
   ]
  },
  {
   "cell_type": "code",
   "execution_count": 156,
   "metadata": {},
   "outputs": [
    {
     "name": "stdout",
     "output_type": "stream",
     "text": [
      "p1\n",
      "p2\n",
      "p3\n"
     ]
    }
   ],
   "source": [
    "# updated, iterations = update_til_converge(add_noise(p1, 0.2), weights, True)\n",
    "ITERATIONS = 100\n",
    "PATTERNS = {\"p1\": p1, \"p2\": p2, \"p3\": p3}\n",
    "converges = {}\n",
    "iterations_count = {}\n",
    "ratios = np.arange(0, 1.0, 0.01)\n",
    "\n",
    "for pattern in PATTERNS:\n",
    "    print(pattern)\n",
    "    converges[pattern] = []\n",
    "    iterations_count[pattern] = []\n",
    "    \n",
    "    for ratio in ratios:\n",
    "        ratio_sum = 0.0\n",
    "        iterations_sum = 0.0\n",
    "    \n",
    "        for iteration in range(ITERATIONS):\n",
    "            noise_pattern = add_noise(PATTERNS[pattern], ratio)\n",
    "            updated, update_iters = update_til_converge(\n",
    "                noise_pattern, weights, True)\n",
    "            ratio_sum += (updated == PATTERNS[pattern]).all()\n",
    "            iterations_sum += update_iters\n",
    "        \n",
    "        converges[pattern].append(ratio_sum/ITERATIONS)\n",
    "        iterations_count[pattern].append(iterations_sum/ITERATIONS)"
   ]
  },
  {
   "cell_type": "code",
   "execution_count": 152,
   "metadata": {},
   "outputs": [
    {
     "data": {
      "text/plain": [
       "Text(0.5, 1.0, 'Classification of noisy training patterns')"
      ]
     },
     "execution_count": 152,
     "metadata": {},
     "output_type": "execute_result"
    },
    {
     "data": {
      "image/png": "[encoded data removed]",
      "text/plain": [
       "<Figure size 432x288 with 1 Axes>"
      ]
     },
     "metadata": {
      "needs_background": "light"
     },
     "output_type": "display_data"
    }
   ],
   "source": [
    "fig = plt.figure()\n",
    "\n",
    "# fig.add_subplot(131)\n",
    "plt.plot(ratios, converges['p1'], label='p1')\n",
    "# fig.add_subplot(132)\n",
    "plt.plot(ratios, converges['p2'], label='p2')\n",
    "# fig.add_subplot(133)\n",
    "plt.plot(ratios, converges['p3'], label='p3')\n",
    "\n",
    "plt.legend()\n",
    "plt.xlabel(\"Ratio\")\n",
    "plt.ylabel(\"Avg Correctly classified\")\n",
    "plt.title(\"Classification of noisy training patterns\")\n",
    "plt.savefig(\"\")"
   ]
  },
  {
   "cell_type": "code",
   "execution_count": 153,
   "metadata": {},
   "outputs": [],
   "source": [
    "max_ind = {p:0 for p in PATTERNS}\n",
    "for pattern in PATTERNS:\n",
    "    for ndx, classification in enumerate(converges[pattern]):\n",
    "        if classification == 1.0:\n",
    "            max_ind[pattern] = ndx\n",
    "        elif classification != 1.0:\n",
    "            break"
   ]
  },
  {
   "cell_type": "code",
   "execution_count": 154,
   "metadata": {},
   "outputs": [
    {
     "data": {
      "text/plain": [
       "{'p1': 15, 'p2': 27, 'p3': 11}"
      ]
     },
     "execution_count": 154,
     "metadata": {},
     "output_type": "execute_result"
    }
   ],
   "source": [
    "max_ind"
   ]
  },
  {
   "cell_type": "code",
   "execution_count": 155,
   "metadata": {},
   "outputs": [
    {
     "data": {
      "text/plain": [
       "Text(0.5, 1.0, 'Classification of noisy training patterns')"
      ]
     },
     "execution_count": 155,
     "metadata": {},
     "output_type": "execute_result"
    },
    {
     "data": {
      "image/png": "[encoded data removed]",
      "text/plain": [
       "<Figure size 432x288 with 1 Axes>"
      ]
     },
     "metadata": {
      "needs_background": "light"
     },
     "output_type": "display_data"
    }
   ],
   "source": [
    "# fig = plt.figure()\n",
    "\n",
    "# fig.add_subplot(131)\n",
    "plt.plot(ratios, iterations_count['p1'], label='p1')\n",
    "# fig.add_subplot(132)\n",
    "plt.plot(ratios, iterations_count['p2'], label='p2')\n",
    "# fig.add_subplot(133)\n",
    "plt.plot(ratios, iterations_count['p3'], label='p3')\n",
    "\n",
    "plt.legend()\n",
    "plt.xlabel(\"Ratio\")\n",
    "plt.ylabel(\"Avg iterations til convergence\")\n",
    "plt.title(\"Classification of noisy training patterns\")"
   ]
  },
  {
   "cell_type": "markdown",
   "metadata": {},
   "source": [
    "## 3.5 Capacity"
   ]
  },
  {
   "cell_type": "code",
   "execution_count": null,
   "metadata": {},
   "outputs": [],
   "source": []
  }
 ],
 "metadata": {
  "kernelspec": {
   "display_name": "Python 3",
   "language": "python",
   "name": "python3"
  },
  "language_info": {
   "codemirror_mode": {
    "name": "ipython",
    "version": 3
   },
   "file_extension": ".py",
   "mimetype": "text/x-python",
   "name": "python",
   "nbconvert_exporter": "python",
   "pygments_lexer": "ipython3",
   "version": "3.6.2"
  }
 },
 "nbformat": 4,
 "nbformat_minor": 2
}
